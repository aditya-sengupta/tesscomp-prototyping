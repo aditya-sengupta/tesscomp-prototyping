{
 "cells": [
  {
   "cell_type": "code",
   "execution_count": 7,
   "metadata": {},
   "outputs": [
    {
     "data": {
      "text/plain": [
       "Index(['TIC ID', 'TOI', 'Previous CTOI', 'Master', 'SG1A', 'SG1B', 'SG2',\n",
       "       'SG3', 'SG4', 'SG5', 'ACWG', 'TESS Disposition', 'TFOPWG Disposition',\n",
       "       'TESS Mag', 'TESS Mag err', 'Planet Name', 'Pipeline Signal ID',\n",
       "       'Source', 'RA', 'Dec', 'PM RA (mas/yr)', 'PM RA err (mas/yr)',\n",
       "       'PM Dec (mas/yr)', 'PM Dec err (mas/yr)', 'Epoch (BJD)',\n",
       "       'Epoch (BJD) err', 'Period (days)', 'Period (days) err',\n",
       "       'Duration (hours)', 'Duration (hours) err', 'Depth (mmag)',\n",
       "       'Depth (mmag) err', 'Depth (ppm)', 'Depth (ppm) err',\n",
       "       'Planet Radius (R_Earth)', 'Planet Radius (R_Earth) err',\n",
       "       'Planet Insolation (Earth Flux)', 'Planet Equil Temp (K)', 'Planet SNR',\n",
       "       'Stellar Distance (pc)', 'Stellar Distance (pc) err',\n",
       "       'Stellar Eff Temp (K)', 'Stellar Eff Temp (K) err',\n",
       "       'Stellar log(g) (cm/s^2)', 'Stellar log(g) (cm/s^2) err',\n",
       "       'Stellar Radius (R_Sun)', 'Stellar Radius (R_Sun) err',\n",
       "       'Stellar Metallicity', ' Stellar Metallicity err', 'Sectors',\n",
       "       'Date TOI Alerted (UTC)', 'Date TOI Updated (UTC)', 'Date Modified',\n",
       "       'Comments'],\n",
       "      dtype='object')"
      ]
     },
     "execution_count": 7,
     "metadata": {},
     "output_type": "execute_result"
    }
   ],
   "source": [
    "import pandas as pd\n",
    "import numpy as np\n",
    "\n",
    "df = pd.read_csv(\"https://exofop.ipac.caltech.edu/tess/download_toi.php?sort=toi&output=csv\")\n",
    "df.keys()"
   ]
  },
  {
   "cell_type": "code",
   "execution_count": 14,
   "metadata": {},
   "outputs": [
    {
     "data": {
      "text/plain": [
       "1430    17\n",
       "Name: Sectors, dtype: object"
      ]
     },
     "execution_count": 14,
     "metadata": {},
     "output_type": "execute_result"
    }
   ],
   "source": [
    "df[df[\"TIC ID\"] == 176860064].Sectors"
   ]
  },
  {
   "cell_type": "code",
   "execution_count": 15,
   "metadata": {},
   "outputs": [],
   "source": [
    "import h5py\n",
    "this_toi = '101.01'\n",
    "\n",
    "hf_time = h5py.File('2min_SAP_times.h5', 'r')\n",
    "hf_flux = h5py.File('2min_SAP_fluxes.h5', 'r')\n",
    "keys = np.array(list(hf_time.keys()))\n",
    "\n",
    "time_2min = np.array(hf_time.get(this_toi))\n",
    "flux_2min = np.array(hf_flux.get(this_toi))"
   ]
  },
  {
   "cell_type": "code",
   "execution_count": 18,
   "metadata": {},
   "outputs": [
    {
     "data": {
      "text/plain": [
       "array([ 0.48311212, 12.6966444 ,  7.47989174, ...,  7.24921205,\n",
       "        5.36997737,  4.78246201])"
      ]
     },
     "execution_count": 18,
     "metadata": {},
     "output_type": "execute_result"
    }
   ],
   "source": [
    "np.diff(time_2min) * 24 * 60 * 60"
   ]
  },
  {
   "cell_type": "code",
   "execution_count": 20,
   "metadata": {},
   "outputs": [
    {
     "data": {
      "text/plain": [
       "[<matplotlib.lines.Line2D at 0x7fda09624f10>]"
      ]
     },
     "execution_count": 20,
     "metadata": {},
     "output_type": "execute_result"
    },
    {
     "data": {
      "image/png": "[encoded data removed]",
      "text/plain": [
       "<Figure size 432x288 with 1 Axes>"
      ]
     },
     "metadata": {
      "needs_background": "light"
     },
     "output_type": "display_data"
    }
   ],
   "source": [
    "from matplotlib import pyplot as plt\n",
    "plt.plot(time_2min, flux_2min)"
   ]
  },
  {
   "cell_type": "code",
   "execution_count": 21,
   "metadata": {},
   "outputs": [
    {
     "data": {
      "text/plain": [
       "(1626,)"
      ]
     },
     "execution_count": 21,
     "metadata": {},
     "output_type": "execute_result"
    }
   ],
   "source": [
    "flux_2min.shape"
   ]
  },
  {
   "cell_type": "code",
   "execution_count": null,
   "metadata": {},
   "outputs": [],
   "source": []
  }
 ],
 "metadata": {
  "kernelspec": {
   "display_name": "Python 3.7.6 64-bit ('base': conda)",
   "language": "python",
   "name": "python37664bitbaseconda1ae424cf00ba4ffaaa6bdb5475dd9e27"
  },
  "language_info": {
   "codemirror_mode": {
    "name": "ipython",
    "version": 3
   },
   "file_extension": ".py",
   "mimetype": "text/x-python",
   "name": "python",
   "nbconvert_exporter": "python",
   "pygments_lexer": "ipython3",
   "version": "3.7.6"
  }
 },
 "nbformat": 4,
 "nbformat_minor": 2
}
