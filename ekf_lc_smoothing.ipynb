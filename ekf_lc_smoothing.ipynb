{
 "cells": [
  {
   "cell_type": "markdown",
   "metadata": {},
   "source": [
    "# Aim\n",
    "\n",
    "Experiment with Extended Kalman smoothing for transit parameters."
   ]
  },
  {
   "cell_type": "code",
   "execution_count": 22,
   "metadata": {},
   "outputs": [],
   "source": [
    "import batman\n",
    "import lightkurve as lk\n",
    "import numpy as np\n",
    "import copy\n",
    "import os\n",
    "from matplotlib import pyplot as plt\n",
    "from tqdm import notebook as tqdm\n",
    "\n",
    "re = 0.009158"
   ]
  },
  {
   "cell_type": "code",
   "execution_count": 13,
   "metadata": {},
   "outputs": [],
   "source": [
    "# the Extended Kalman Filter\n",
    "\n",
    "eps = 1e-6\n",
    "\n",
    "def jacobian(f, p):\n",
    "    '''\n",
    "    Finds the Jacobian matrix of the function f at the point p.\n",
    "    \n",
    "    Arguments\n",
    "    ---------\n",
    "    f : callable\n",
    "    A function F^n -> F^m (F = R usually but not assumed); \n",
    "    takes in an n-length numpy array and returns an m-length numpy array.\n",
    "    \n",
    "    p : np.ndarray, shape (n,)\n",
    "    The n-length numpy array around which we want to approximate the Jacobian.\n",
    "    \n",
    "    Returns\n",
    "    -------\n",
    "    jac : np.ndarray, shape (m, n)\n",
    "    The Jacobian matrix (the matrix of first-order partial derivatives).\n",
    "    '''\n",
    "    n = len(p)\n",
    "    center = f(p)\n",
    "    rights = f(p + eps * np.eye(n))\n",
    "    lefts = f(p - eps * np.eye(n))\n",
    "    return .5 * ((rights.T - center) / eps + (center - lefts.T) / eps).T\n",
    "\n",
    "class EKFilter():\n",
    "    def __init__(self, f, Q, h, R, state=None):\n",
    "        self.f = f\n",
    "        self.Q = Q\n",
    "        self.h = h\n",
    "        self.R = R\n",
    "        self.s = Q.shape[0]\n",
    "        self.m = R.shape[0]\n",
    "        if state is None:\n",
    "            self.state = np.zeros(self.s)\n",
    "        else:\n",
    "            self.state = state\n",
    "        self.prev_P = np.zeros((self.s, self.s))\n",
    "        self.P = np.zeros((self.s, self.s))\n",
    "    \n",
    "    def predict(self):\n",
    "        self.prev_P = copy.deepcopy(self.P)\n",
    "        if isinstance(self.f, np.ndarray):\n",
    "            self.state = self.f @ self.state\n",
    "            self.P = self.f @ self.P @ self.f + self.Q\n",
    "        else:\n",
    "            A = jacobian(self.f, copy.deepcopy(self.state))\n",
    "            self.state = self.f(self.state)\n",
    "            self.P = A @ self.P @ A + self.Q\n",
    "        \n",
    "    def update(self, measurement):\n",
    "        if isinstance(self.h, np.ndarray):\n",
    "            C = jacobian(self.h, copy.deepcopy(self.state))\n",
    "            innovation = measurement - self.h(self.state)\n",
    "        else:\n",
    "            C = self.h\n",
    "            innovation = measurement - self.h @ self.state\n",
    "        if not self.steady_state:\n",
    "            self.K = self.P @ C.T @ np.linalg.inv(C @ self.P @ C.T + self.R)\n",
    "            self.P -= self.K @ (C @ self.P)\n",
    "            if np.allclose(self.P, self.prev_P):\n",
    "                self.steady_state = True\n",
    "        innovation = measurement - C @ self.state\n",
    "        self.state = self.state + self.K @ innovation"
   ]
  },
  {
   "cell_type": "code",
   "execution_count": 14,
   "metadata": {},
   "outputs": [],
   "source": [
    "# EKF functions for the light curve\n",
    "\n",
    "def get_a(period, mstar, Go4pi=2945.4625385377644/(4*np.pi*np.pi)):\n",
    "    \"\"\"\n",
    "    https://dfm.io/posts/exopop/\n",
    "    Compute the semi-major axis of an orbit in Solar radii.\n",
    "    \n",
    "    :param period: the period in days\n",
    "    :param mstar:  the stellar mass in Solar masses\n",
    "    \n",
    "    \"\"\"\n",
    "    return (Go4pi*period*period*mstar) ** (1./3)\n",
    "\n",
    "dt = 30 / (60 * 60 * 24) # 30 minute cadence in days\n",
    "mstar = 0.9707\n",
    "rstar = 0.964\n",
    "params = batman.TransitParams()\n",
    "params.t0 = 0.\n",
    "params.per = 1.\n",
    "params.rp = 0.1\n",
    "params.a = get_a(params.per, mstar)\n",
    "params.inc = 87.\n",
    "params.ecc = 0.\n",
    "params.w = 90.                      #longitude of periastron (in degrees)\n",
    "params.u = [0.93, -0.23, 0, 0]      #limb darkening coefficients [u1-u4]\n",
    "params.limb_dark = \"nonlinear\"       #limb darkening model\n",
    "t = np.arange(0, params.per + dt, dt)\n",
    "m = batman.TransitModel(params, t)\n",
    "model_flux = m.light_curve(params)\n",
    "err_flux = m.calc_err() / 1e6\n",
    "\n",
    "def batman_to_partial_state(params):\n",
    "    state = np.array([\n",
    "        params.per,\n",
    "        params.rp,\n",
    "        params.inc,\n",
    "        params.ecc,\n",
    "        params.w\n",
    "    ])\n",
    "    state = np.concatenate((state, params.u))\n",
    "    return state\n",
    "\n",
    "def compute_lightcurve(state):\n",
    "    global params, model_flux\n",
    "    params.per, params.rp, params.inc, params.ecc, params.w = state[2:7]\n",
    "    params.a = get_a(params.per, mstar)\n",
    "    params.u = state[7:]\n",
    "    model_flux = m.light_curve(params)\n",
    "    return model_flux\n",
    "\n",
    "def lightcurve_state_transition(state):\n",
    "    '''\n",
    "    Takes in a state: [flux, t_idx, period, prad, incl, ecc, omega, *limbdark1-4].\n",
    "    Returns the state at the next timestep.\n",
    "    '''\n",
    "    if len(state.shape) > 1:\n",
    "        # passing in an array from the Jacobian\n",
    "        return np.vstack([lightcurve_state_transition(row) for row in state])\n",
    "    if not np.allclose(batman_to_partial_state(params), state[2:]):\n",
    "        # the Kalman update did something that'll need to be changed in the light curve\n",
    "        compute_lightcurve(state)\n",
    "    state[1] = (state[1] + 1) % len(t) # time index\n",
    "    state[0] = model_flux[int(state[1])]\n",
    "    return state\n",
    "\n",
    "def lightcurve_measure(state):\n",
    "    return state[0] # and PRFs and stuff later\n",
    "\n",
    "# add in a discretization error term\n",
    "\n",
    "Q = np.diag([\n",
    "    err_flux, # var(flux) = variance of batman model flux + inherent variance\n",
    "    0, # time index: no error. \n",
    "    eps, # var(period) between timesteps, should be small\n",
    "    eps, # var(prad)\n",
    "    eps, # var(inc)\n",
    "    eps, # var(ecc)\n",
    "    eps, # var(omega)\n",
    "    *[eps] * len(params.u) # var(limbdarks)\n",
    "])\n",
    "\n",
    "R = np.array([[eps]]) # to be replaced by PRF stuff"
   ]
  },
  {
   "cell_type": "code",
   "execution_count": 15,
   "metadata": {},
   "outputs": [],
   "source": [
    "# time to pick a TOI or KOI!\n",
    "star_id = \"KIC11446443\"\n",
    "if os.path.exists(\"flux_{}.npy\".format(star_id)):\n",
    "    lc_time, lc_flux = np.load(\"time_{}.npy\".format(star_id)), np.load(\"flux_{}.npy\".format(star_id))\n",
    "else:\n",
    "    pixelfile = lk.search_targetpixelfile(star_id, quarter=1).download(quality_bitmask='hardest')\n",
    "    lc = pixelfile.to_lightcurve(aperture_mask='all')\n",
    "    lc_time, lc_flux = lc.time, lc.flux\n",
    "    lc_flux /= max(lc_flux)\n",
    "    np.save(\"time_{}.npy\".format(star_id), lc_time)\n",
    "    np.save(\"flux_{}.npy\".format(star_id), lc_flux)\n",
    "\n",
    "# TIC Contamination Ratio\t0.05501"
   ]
  },
  {
   "cell_type": "code",
   "execution_count": 32,
   "metadata": {},
   "outputs": [
    {
     "data": {
      "application/vnd.jupyter.widget-view+json": {
       "model_id": "c24ec3fb569e47c5be88124a51a797af",
       "version_major": 2,
       "version_minor": 0
      },
      "text/plain": [
       "HBox(children=(FloatProgress(value=0.0, max=3000.0), HTML(value='')))"
      ]
     },
     "metadata": {},
     "output_type": "display_data"
    },
    {
     "name": "stdout",
     "output_type": "stream",
     "text": [
      "\n"
     ]
    },
    {
     "data": {
      "text/plain": [
       "<matplotlib.legend.Legend at 0x11ed30f10>"
      ]
     },
     "execution_count": 32,
     "metadata": {},
     "output_type": "execute_result"
    },
    {
     "data": {
      "image/png": "[encoded data removed]",
      "text/plain": [
       "<Figure size 432x288 with 1 Axes>"
      ]
     },
     "metadata": {
      "needs_background": "light"
     },
     "output_type": "display_data"
    }
   ],
   "source": [
    "lightcurve_filter = EKFilter(f=lightcurve_state_transition, Q=Q, h=lightcurve_measure, R=R, state=np.array([\n",
    "    lc_flux[0],\n",
    "    0,\n",
    "    2.4706,\n",
    "    13.04 * re / rstar, # normalized prad\n",
    "    90.,\n",
    "    0.,\n",
    "    0.,\n",
    "    *[1.,0.,0.,0.]\n",
    "], dtype=np.float64))\n",
    "\n",
    "compute_lightcurve(lightcurve_filter.state)\n",
    "\n",
    "num_steps = 3000\n",
    "predict_measure_test_results = np.empty(num_steps,)\n",
    "for i in tqdm.trange(num_steps):\n",
    "    lightcurve_filter.predict()\n",
    "    predict_measure_test_results[i] = lightcurve_measure(lightcurve_filter.state)\n",
    "    \n",
    "plt.plot(predict_measure_test_results, label='predict-measure')\n",
    "plt.plot(model_flux[:num_steps], label='source data')\n",
    "plt.legend()"
   ]
  }
 ],
 "metadata": {
  "kernelspec": {
   "display_name": "Python 3",
   "language": "python",
   "name": "python3"
  },
  "language_info": {
   "codemirror_mode": {
    "name": "ipython",
    "version": 3
   },
   "file_extension": ".py",
   "mimetype": "text/x-python",
   "name": "python",
   "nbconvert_exporter": "python",
   "pygments_lexer": "ipython3",
   "version": "3.7.7"
  }
 },
 "nbformat": 4,
 "nbformat_minor": 2
}
