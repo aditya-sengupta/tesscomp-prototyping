{
 "cells": [
  {
   "cell_type": "markdown",
   "metadata": {},
   "source": [
    "# Aim\n",
    "\n",
    "Compute CDPP arrays for all the TOIs."
   ]
  },
  {
   "cell_type": "code",
   "execution_count": 75,
   "metadata": {},
   "outputs": [],
   "source": [
    "from astroquery.mast import Catalogs\n",
    "from astroquery.mast import Tesscut\n",
    "from astropy.coordinates import SkyCoord\n",
    "import astropy.units as u\n",
    "from astropy import constants\n",
    "import lightkurve as lk\n",
    "import numpy as np\n",
    "import pandas as pd\n",
    "import matplotlib.pyplot as plt\n",
    "from tqdm import notebook as tqdm\n",
    "%matplotlib inline"
   ]
  },
  {
   "cell_type": "code",
   "execution_count": 12,
   "metadata": {},
   "outputs": [],
   "source": [
    "toi = pd.read_csv(\"csv-file-toi-catalog.csv\", comment='#')"
   ]
  },
  {
   "cell_type": "code",
   "execution_count": 59,
   "metadata": {},
   "outputs": [],
   "source": [
    "def get_TPF(ID:int, sector:int):\n",
    "    \"\"\"\n",
    "    Queries TIC for a target star and returns its TPF.\n",
    "    Args:\n",
    "        ID (int): TIC ID of the target.\n",
    "        sectors (numpy array): Sectors in which the target has been observed.\n",
    "        search_radius (int): Number of pixels from the target star to search.\n",
    "    Returns:\n",
    "        TPF (numpy array): Time-series FFI of the target. \n",
    "        time (numpy array): Times corresponding to each image.\n",
    "    \"\"\"\n",
    "    \n",
    "    # find coordinates of the target\n",
    "    df = Catalogs.query_object(\"TIC\"+str(ID), radius=0.0001, catalog=\"TIC\").to_pandas()\n",
    "    target = df[[\"ID\", \"Tmag\", \"ra\", \"dec\", \"mass\", \"rad\", \"Teff\", \"logg\", \"lum\", \"plx\"]]\n",
    "    ra, dec = target[\"ra\"].values, target[\"dec\"].values\n",
    "    # get the TPF with TESScut\n",
    "    cutout_coord = SkyCoord(ra[0], dec[0], unit=\"deg\")\n",
    "    cutout_hdu = Tesscut.get_cutouts(cutout_coord, size=20, sector=sector)[0]\n",
    "    TPF = cutout_hdu[1].data[\"Flux\"]\n",
    "    time = cutout_hdu[1].data[\"Time\"]\n",
    "    return TPF, time\n",
    "\n",
    "def get_lightcurve(TPF:np.ndarray, aperture:np.ndarray, subtract_background:bool = True):\n",
    "    \"\"\"\n",
    "    Converts a target's FFIs into a light curve given an aperture and performs a simple background subtraction.\n",
    "    Args:\n",
    "        TPF (numpy array): Target Pixel File (time-series FFI) of the target. \n",
    "        aperture (numpy array): Aperture mask used to extract the light curve.\n",
    "        subract_background (bool): Whether or not to do background subtraction.\n",
    "    Returns:\n",
    "        flux (numpy array): Extracted light curve flux.\n",
    "    \"\"\"\n",
    "    \n",
    "    if subtract_background == True:\n",
    "        # calculate the background for each image by taking the median pixel flux outside of the aperture\n",
    "        background = np.median(TPF[:,~aperture], axis=1)\n",
    "        # calculate the flux by summing the values in the aperture pixels and subtracting the background\n",
    "        n_aperture_pixels = aperture[aperture==True].flatten().shape[0]\n",
    "        flux = np.sum(TPF[:,aperture], axis=1) - background * n_aperture_pixels\n",
    "    else:\n",
    "        # calculate the flux by summing the values in the aperture pixels\n",
    "        flux = np.sum(TPF[:,aperture], axis=1)\n",
    "    return flux\n",
    "\n",
    "mask = np.zeros(TPF.shape[1:], dtype=bool)\n",
    "mask[9:12,9:12] = True"
   ]
  },
  {
   "cell_type": "code",
   "execution_count": 62,
   "metadata": {},
   "outputs": [],
   "source": [
    "def get_sector_ints(idx):\n",
    "    return [int(x) for x in toi['Sectors'].values[idx].split()]"
   ]
  },
  {
   "cell_type": "code",
   "execution_count": 95,
   "metadata": {},
   "outputs": [],
   "source": [
    "index_array = []\n",
    "for i in range(len(toi)):\n",
    "    for j in get_sector_ints(i):\n",
    "        index_array.append([i,j])"
   ]
  },
  {
   "cell_type": "code",
   "execution_count": 97,
   "metadata": {},
   "outputs": [],
   "source": [
    "np.save('tess_cdpp_idx.npy', np.array(index_array))"
   ]
  },
  {
   "cell_type": "code",
   "execution_count": 70,
   "metadata": {},
   "outputs": [],
   "source": [
    "num_rows = sum([len(get_sector_ints(i)) for i in range(len(toi))])"
   ]
  },
  {
   "cell_type": "code",
   "execution_count": 71,
   "metadata": {},
   "outputs": [],
   "source": [
    "cdpp_vals = np.array([3, 4, 5, 6, 7, 9, 10, 12, 15, 18, 21, 24, 25, 30], dtype=int)\n",
    "est = np.vectorize(lambda x: curve.estimate_cdpp(int(x)))\n",
    "num_cols = len(est(cdpp_vals))"
   ]
  },
  {
   "cell_type": "code",
   "execution_count": 77,
   "metadata": {},
   "outputs": [
    {
     "data": {
      "application/vnd.jupyter.widget-view+json": {
       "model_id": "9a82848896bd4c17b1d0d1806175f14f",
       "version_major": 2,
       "version_minor": 0
      },
      "text/plain": [
       "HBox(children=(FloatProgress(value=0.0, max=2089.0), HTML(value='')))"
      ]
     },
     "metadata": {},
     "output_type": "display_data"
    },
    {
     "name": "stderr",
     "output_type": "stream",
     "text": [
      "/Users/adityasengupta/Library/Python/3.7/lib/python/site-packages/ipykernel_launcher.py:5: TableReplaceWarning: converted column 'numcont' from integer to float\n",
      "  \"\"\"\n"
     ]
    },
    {
     "name": "stdout",
     "output_type": "stream",
     "text": [
      "\n"
     ]
    },
    {
     "ename": "HTTPError",
     "evalue": "400 Client Error: Bad Request: Malformed sector parameter for url: https://mast.stsci.edu/tesscut/api/v0.1/astrocut?ra=126.433779482782&dec=-13.5598409889582&y=20&x=20&units=px&sector=19",
     "output_type": "error",
     "traceback": [
      "\u001b[0;31m---------------------------------------------------------------------------\u001b[0m",
      "\u001b[0;31mHTTPError\u001b[0m                                 Traceback (most recent call last)",
      "\u001b[0;32m<ipython-input-77-e392e8679f18>\u001b[0m in \u001b[0;36m<module>\u001b[0;34m\u001b[0m\n\u001b[1;32m      3\u001b[0m \u001b[0;32mfor\u001b[0m \u001b[0mi\u001b[0m\u001b[0;34m,\u001b[0m \u001b[0mID\u001b[0m \u001b[0;32min\u001b[0m \u001b[0menumerate\u001b[0m\u001b[0;34m(\u001b[0m\u001b[0mtqdm\u001b[0m\u001b[0;34m.\u001b[0m\u001b[0mtqdm\u001b[0m\u001b[0;34m(\u001b[0m\u001b[0mtoi\u001b[0m\u001b[0;34m[\u001b[0m\u001b[0;34m'TIC'\u001b[0m\u001b[0;34m]\u001b[0m\u001b[0;34m.\u001b[0m\u001b[0mvalues\u001b[0m\u001b[0;34m)\u001b[0m\u001b[0;34m)\u001b[0m\u001b[0;34m:\u001b[0m\u001b[0;34m\u001b[0m\u001b[0;34m\u001b[0m\u001b[0m\n\u001b[1;32m      4\u001b[0m     \u001b[0;32mfor\u001b[0m \u001b[0ms\u001b[0m \u001b[0;32min\u001b[0m \u001b[0mget_sector_ints\u001b[0m\u001b[0;34m(\u001b[0m\u001b[0mi\u001b[0m\u001b[0;34m)\u001b[0m\u001b[0;34m:\u001b[0m\u001b[0;34m\u001b[0m\u001b[0;34m\u001b[0m\u001b[0m\n\u001b[0;32m----> 5\u001b[0;31m         \u001b[0mTPF\u001b[0m\u001b[0;34m,\u001b[0m \u001b[0mtime\u001b[0m \u001b[0;34m=\u001b[0m \u001b[0mget_TPF\u001b[0m\u001b[0;34m(\u001b[0m\u001b[0mID\u001b[0m\u001b[0;34m=\u001b[0m\u001b[0mID\u001b[0m\u001b[0;34m,\u001b[0m \u001b[0msector\u001b[0m\u001b[0;34m=\u001b[0m\u001b[0ms\u001b[0m\u001b[0;34m)\u001b[0m\u001b[0;34m\u001b[0m\u001b[0;34m\u001b[0m\u001b[0m\n\u001b[0m\u001b[1;32m      6\u001b[0m         \u001b[0mflux\u001b[0m \u001b[0;34m=\u001b[0m \u001b[0mget_lightcurve\u001b[0m\u001b[0;34m(\u001b[0m\u001b[0mTPF\u001b[0m\u001b[0;34m=\u001b[0m\u001b[0mTPF\u001b[0m\u001b[0;34m,\u001b[0m \u001b[0maperture\u001b[0m\u001b[0;34m=\u001b[0m\u001b[0mmask\u001b[0m\u001b[0;34m)\u001b[0m\u001b[0;34m\u001b[0m\u001b[0;34m\u001b[0m\u001b[0m\n\u001b[1;32m      7\u001b[0m         \u001b[0mcurve\u001b[0m \u001b[0;34m=\u001b[0m \u001b[0mlk\u001b[0m\u001b[0;34m.\u001b[0m\u001b[0mlightcurve\u001b[0m\u001b[0;34m.\u001b[0m\u001b[0mTessLightCurve\u001b[0m\u001b[0;34m(\u001b[0m\u001b[0mtime\u001b[0m\u001b[0;34m=\u001b[0m\u001b[0mtime\u001b[0m\u001b[0;34m,\u001b[0m \u001b[0mflux\u001b[0m\u001b[0;34m=\u001b[0m\u001b[0mflux\u001b[0m\u001b[0;34m)\u001b[0m\u001b[0;34m\u001b[0m\u001b[0;34m\u001b[0m\u001b[0m\n",
      "\u001b[0;32m<ipython-input-59-6fc41cda238a>\u001b[0m in \u001b[0;36mget_TPF\u001b[0;34m(ID, sector)\u001b[0m\n\u001b[1;32m     17\u001b[0m     \u001b[0;31m# get the TPF with TESScut\u001b[0m\u001b[0;34m\u001b[0m\u001b[0;34m\u001b[0m\u001b[0;34m\u001b[0m\u001b[0m\n\u001b[1;32m     18\u001b[0m     \u001b[0mcutout_coord\u001b[0m \u001b[0;34m=\u001b[0m \u001b[0mSkyCoord\u001b[0m\u001b[0;34m(\u001b[0m\u001b[0mra\u001b[0m\u001b[0;34m[\u001b[0m\u001b[0;36m0\u001b[0m\u001b[0;34m]\u001b[0m\u001b[0;34m,\u001b[0m \u001b[0mdec\u001b[0m\u001b[0;34m[\u001b[0m\u001b[0;36m0\u001b[0m\u001b[0;34m]\u001b[0m\u001b[0;34m,\u001b[0m \u001b[0munit\u001b[0m\u001b[0;34m=\u001b[0m\u001b[0;34m\"deg\"\u001b[0m\u001b[0;34m)\u001b[0m\u001b[0;34m\u001b[0m\u001b[0;34m\u001b[0m\u001b[0m\n\u001b[0;32m---> 19\u001b[0;31m     \u001b[0mcutout_hdu\u001b[0m \u001b[0;34m=\u001b[0m \u001b[0mTesscut\u001b[0m\u001b[0;34m.\u001b[0m\u001b[0mget_cutouts\u001b[0m\u001b[0;34m(\u001b[0m\u001b[0mcutout_coord\u001b[0m\u001b[0;34m,\u001b[0m \u001b[0msize\u001b[0m\u001b[0;34m=\u001b[0m\u001b[0;36m20\u001b[0m\u001b[0;34m,\u001b[0m \u001b[0msector\u001b[0m\u001b[0;34m=\u001b[0m\u001b[0msector\u001b[0m\u001b[0;34m)\u001b[0m\u001b[0;34m[\u001b[0m\u001b[0;36m0\u001b[0m\u001b[0;34m]\u001b[0m\u001b[0;34m\u001b[0m\u001b[0;34m\u001b[0m\u001b[0m\n\u001b[0m\u001b[1;32m     20\u001b[0m     \u001b[0mTPF\u001b[0m \u001b[0;34m=\u001b[0m \u001b[0mcutout_hdu\u001b[0m\u001b[0;34m[\u001b[0m\u001b[0;36m1\u001b[0m\u001b[0;34m]\u001b[0m\u001b[0;34m.\u001b[0m\u001b[0mdata\u001b[0m\u001b[0;34m[\u001b[0m\u001b[0;34m\"Flux\"\u001b[0m\u001b[0;34m]\u001b[0m\u001b[0;34m\u001b[0m\u001b[0;34m\u001b[0m\u001b[0m\n\u001b[1;32m     21\u001b[0m     \u001b[0mtime\u001b[0m \u001b[0;34m=\u001b[0m \u001b[0mcutout_hdu\u001b[0m\u001b[0;34m[\u001b[0m\u001b[0;36m1\u001b[0m\u001b[0;34m]\u001b[0m\u001b[0;34m.\u001b[0m\u001b[0mdata\u001b[0m\u001b[0;34m[\u001b[0m\u001b[0;34m\"Time\"\u001b[0m\u001b[0;34m]\u001b[0m\u001b[0;34m\u001b[0m\u001b[0;34m\u001b[0m\u001b[0m\n",
      "\u001b[0;32m/usr/local/lib/python3.7/site-packages/astroquery/mast/tesscut.py\u001b[0m in \u001b[0;36mget_cutouts\u001b[0;34m(self, coordinates, size, sector, objectname)\u001b[0m\n\u001b[1;32m    328\u001b[0m \u001b[0;34m\u001b[0m\u001b[0m\n\u001b[1;32m    329\u001b[0m         \u001b[0mresponse\u001b[0m \u001b[0;34m=\u001b[0m \u001b[0mself\u001b[0m\u001b[0;34m.\u001b[0m\u001b[0m_request\u001b[0m\u001b[0;34m(\u001b[0m\u001b[0;34m\"GET\"\u001b[0m\u001b[0;34m,\u001b[0m \u001b[0mself\u001b[0m\u001b[0;34m.\u001b[0m\u001b[0m_TESSCUT_URL\u001b[0m\u001b[0;34m+\u001b[0m\u001b[0;34m\"astrocut\"\u001b[0m\u001b[0;34m,\u001b[0m \u001b[0mparams\u001b[0m\u001b[0;34m=\u001b[0m\u001b[0mastrocut_request\u001b[0m\u001b[0;34m)\u001b[0m\u001b[0;34m\u001b[0m\u001b[0;34m\u001b[0m\u001b[0m\n\u001b[0;32m--> 330\u001b[0;31m         \u001b[0mresponse\u001b[0m\u001b[0;34m.\u001b[0m\u001b[0mraise_for_status\u001b[0m\u001b[0;34m(\u001b[0m\u001b[0;34m)\u001b[0m  \u001b[0;31m# Raise any errors\u001b[0m\u001b[0;34m\u001b[0m\u001b[0;34m\u001b[0m\u001b[0m\n\u001b[0m\u001b[1;32m    331\u001b[0m \u001b[0;34m\u001b[0m\u001b[0m\n\u001b[1;32m    332\u001b[0m         \u001b[0;32mtry\u001b[0m\u001b[0;34m:\u001b[0m\u001b[0;34m\u001b[0m\u001b[0;34m\u001b[0m\u001b[0m\n",
      "\u001b[0;32m/usr/local/lib/python3.7/site-packages/requests/models.py\u001b[0m in \u001b[0;36mraise_for_status\u001b[0;34m(self)\u001b[0m\n\u001b[1;32m    938\u001b[0m \u001b[0;34m\u001b[0m\u001b[0m\n\u001b[1;32m    939\u001b[0m         \u001b[0;32mif\u001b[0m \u001b[0mhttp_error_msg\u001b[0m\u001b[0;34m:\u001b[0m\u001b[0;34m\u001b[0m\u001b[0;34m\u001b[0m\u001b[0m\n\u001b[0;32m--> 940\u001b[0;31m             \u001b[0;32mraise\u001b[0m \u001b[0mHTTPError\u001b[0m\u001b[0;34m(\u001b[0m\u001b[0mhttp_error_msg\u001b[0m\u001b[0;34m,\u001b[0m \u001b[0mresponse\u001b[0m\u001b[0;34m=\u001b[0m\u001b[0mself\u001b[0m\u001b[0;34m)\u001b[0m\u001b[0;34m\u001b[0m\u001b[0;34m\u001b[0m\u001b[0m\n\u001b[0m\u001b[1;32m    941\u001b[0m \u001b[0;34m\u001b[0m\u001b[0m\n\u001b[1;32m    942\u001b[0m     \u001b[0;32mdef\u001b[0m \u001b[0mclose\u001b[0m\u001b[0;34m(\u001b[0m\u001b[0mself\u001b[0m\u001b[0;34m)\u001b[0m\u001b[0;34m:\u001b[0m\u001b[0;34m\u001b[0m\u001b[0;34m\u001b[0m\u001b[0m\n",
      "\u001b[0;31mHTTPError\u001b[0m: 400 Client Error: Bad Request: Malformed sector parameter for url: https://mast.stsci.edu/tesscut/api/v0.1/astrocut?ra=126.433779482782&dec=-13.5598409889582&y=20&x=20&units=px&sector=19"
     ]
    }
   ],
   "source": [
    "cdpp_matrix = np.empty((num_rows, num_cols))\n",
    "j = 0\n",
    "for i, ID in enumerate(tqdm.tqdm(toi['TIC'].values)):\n",
    "    for s in get_sector_ints(i):\n",
    "        try:\n",
    "            TPF, time = get_TPF(ID=ID, sector=s)\n",
    "            flux = get_lightcurve(TPF=TPF, aperture=mask)\n",
    "            curve = lk.lightcurve.TessLightCurve(time=time, flux=flux)\n",
    "            est = np.vectorize(lambda x: curve.estimate_cdpp(int(x)))\n",
    "            cdpp_matrix[j] = est(cdpp_vals)\n",
    "        except HTTPError:\n",
    "            print(\"Problem at index {0} and sector {1}, continuing\".format(i, s))\n",
    "        j += 1"
   ]
  },
  {
   "cell_type": "code",
   "execution_count": null,
   "metadata": {},
   "outputs": [],
   "source": []
  }
 ],
 "metadata": {
  "kernelspec": {
   "display_name": "Python 3.7.4 64-bit",
   "language": "python",
   "name": "python37464bita6bc78883568424ab1dbb445dedd97d1"
  },
  "language_info": {
   "codemirror_mode": {
    "name": "ipython",
    "version": 3
   },
   "file_extension": ".py",
   "mimetype": "text/x-python",
   "name": "python",
   "nbconvert_exporter": "python",
   "pygments_lexer": "ipython3",
   "version": "3.7.7"
  }
 },
 "nbformat": 4,
 "nbformat_minor": 2
}
