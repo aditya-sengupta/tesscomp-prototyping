{
 "cells": [
  {
   "cell_type": "markdown",
   "metadata": {},
   "source": [
    "# Aim\n",
    "\n",
    "Experiment with Extended Kalman smoothing for transit parameters."
   ]
  },
  {
   "cell_type": "code",
   "execution_count": 4,
   "metadata": {},
   "outputs": [
    {
     "ename": "ModuleNotFoundError",
     "evalue": "No module named 'dev'",
     "output_type": "error",
     "traceback": [
      "\u001b[0;31m---------------------------------------------------------------------------\u001b[0m",
      "\u001b[0;31mModuleNotFoundError\u001b[0m                       Traceback (most recent call last)",
      "\u001b[0;32m<ipython-input-4-05815b7c7699>\u001b[0m in \u001b[0;36m<module>\u001b[0;34m\u001b[0m\n\u001b[1;32m      8\u001b[0m \u001b[0;32mfrom\u001b[0m \u001b[0mmatplotlib\u001b[0m \u001b[0;32mimport\u001b[0m \u001b[0mpyplot\u001b[0m \u001b[0;32mas\u001b[0m \u001b[0mplt\u001b[0m\u001b[0;34m\u001b[0m\u001b[0;34m\u001b[0m\u001b[0m\n\u001b[1;32m      9\u001b[0m \u001b[0;32mfrom\u001b[0m \u001b[0mtqdm\u001b[0m \u001b[0;32mimport\u001b[0m \u001b[0mnotebook\u001b[0m \u001b[0;32mas\u001b[0m \u001b[0mtqdm\u001b[0m\u001b[0;34m\u001b[0m\u001b[0;34m\u001b[0m\u001b[0m\n\u001b[0;32m---> 10\u001b[0;31m \u001b[0;32mfrom\u001b[0m \u001b[0mdev\u001b[0m\u001b[0;34m.\u001b[0m\u001b[0mekf\u001b[0m \u001b[0;32mimport\u001b[0m \u001b[0mjacobian\u001b[0m\u001b[0;34m,\u001b[0m \u001b[0mEKFilter\u001b[0m\u001b[0;34m\u001b[0m\u001b[0;34m\u001b[0m\u001b[0m\n\u001b[0m\u001b[1;32m     11\u001b[0m \u001b[0;34m\u001b[0m\u001b[0m\n\u001b[1;32m     12\u001b[0m \u001b[0mre\u001b[0m \u001b[0;34m=\u001b[0m \u001b[0;36m0.009158\u001b[0m\u001b[0;34m\u001b[0m\u001b[0;34m\u001b[0m\u001b[0m\n",
      "\u001b[0;31mModuleNotFoundError\u001b[0m: No module named 'dev'"
     ]
    }
   ],
   "source": [
    "import sys\n",
    "sys.path.append(\"..\")\n",
    "import batman\n",
    "import lightkurve as lk\n",
    "import numpy as np\n",
    "import copy\n",
    "import os\n",
    "from matplotlib import pyplot as plt\n",
    "from tqdm import notebook as tqdm\n",
    "from dev.ekf import jacobian, EKFilter\n",
    "\n",
    "re = 0.009158\n",
    "eps = 1e-6\n",
    "%load_ext autoreload\n",
    "%autoreload 2"
   ]
  },
  {
   "cell_type": "code",
   "execution_count": 9,
   "metadata": {},
   "outputs": [],
   "source": [
    "# EKF functions for the light curve\n",
    "\n",
    "def get_a(period, mstar, Go4pi=2945.4625385377644/(4*np.pi*np.pi)):\n",
    "    \"\"\"\n",
    "    https://dfm.io/posts/exopop/\n",
    "    Compute the semi-major axis of an orbit in Solar radii.\n",
    "    \n",
    "    :param period: the period in days\n",
    "    :param mstar:  the stellar mass in Solar masses\n",
    "    \n",
    "    \"\"\"\n",
    "    return (Go4pi*period*period*mstar) ** (1./3)\n",
    "\n",
    "dt = 30 / (60 * 60 * 24) # 30 minute cadence in days\n",
    "mstar = 0.9707\n",
    "rstar = 0.964\n",
    "params = batman.TransitParams()\n",
    "params.t0 = 0.\n",
    "params.per = 1# 2.4706\n",
    "params.rp = 13.04 * re / rstar\n",
    "params.a = get_a(params.per, mstar)\n",
    "params.inc = 90.\n",
    "params.ecc = 0.\n",
    "params.w = 90.                      #longitude of periastron (in degrees)\n",
    "params.u = [0.93, -0.23, 0, 0]      #limb darkening coefficients [u1-u4]'''\n",
    "params.limb_dark = \"nonlinear\"       #limb darkening model\n",
    "t = np.arange(0, params.per + dt, dt)\n",
    "m = batman.TransitModel(params, t)\n",
    "model_flux = m.light_curve(params)\n",
    "err_flux = m.calc_err() / 1e6\n",
    "\n",
    "def batman_to_partial_state(params):\n",
    "    state = np.array([\n",
    "        params.per,\n",
    "        params.rp,\n",
    "        params.inc,\n",
    "        params.ecc,\n",
    "        params.w\n",
    "    ])\n",
    "    state = np.concatenate((state, params.u))\n",
    "    return state\n",
    "\n",
    "def compute_lightcurve(state):\n",
    "    global params, model_flux\n",
    "    params.per, params.rp, params.inc, params.ecc, params.w = state[2:7]\n",
    "    params.a = get_a(params.per, mstar)\n",
    "    params.u = state[7:]\n",
    "    model_flux = m.light_curve(params)\n",
    "    return model_flux\n",
    "\n",
    "def lightcurve_state_transition(state):\n",
    "    '''\n",
    "    Takes in a state: [flux, t_idx, period, prad, incl, ecc, omega, *limbdark1-4].\n",
    "    Returns the state at the next timestep.\n",
    "    '''\n",
    "    if len(state.shape) > 1:\n",
    "        # passing in an array from the Jacobian\n",
    "        return np.vstack([lightcurve_state_transition(row) for row in state])\n",
    "    if not np.allclose(batman_to_partial_state(params), state[2:]):\n",
    "        # the Kalman update did something that'll need to be changed in the light curve\n",
    "        compute_lightcurve(state)\n",
    "    state[1] = (state[1] + 1) % len(t) # time index\n",
    "    state[0] = model_flux[int(state[1])]\n",
    "    return state\n",
    "\n",
    "def lightcurve_measure(state):\n",
    "    return state[0] # and PRFs and stuff later\n",
    "\n",
    "# add in a discretization error term\n",
    "\n",
    "Q = np.diag([\n",
    "    err_flux, # var(flux) = variance of batman model flux + inherent variance\n",
    "    0, # time index: no error. \n",
    "    eps, # var(period) between timesteps, should be small\n",
    "    eps, # var(prad)\n",
    "    eps, # var(inc)\n",
    "    eps, # var(ecc)\n",
    "    eps, # var(omega)\n",
    "    *[eps] * len(params.u) # var(limbdarks)\n",
    "])\n",
    "\n",
    "R = np.array([[eps]]) # to be replaced by PRF stuff"
   ]
  },
  {
   "cell_type": "code",
   "execution_count": 13,
   "metadata": {},
   "outputs": [],
   "source": [
    "# time to pick a TOI or KOI!\n",
    "star_id = \"KIC11446443\"\n",
    "if os.path.exists(\"../data/flux_{}.npy\".format(star_id)):\n",
    "    lc_time, lc_flux = np.load(\"../data/time_{}.npy\".format(star_id)), np.load(\"../data/flux_{}.npy\".format(star_id))\n",
    "else:\n",
    "    pixelfile = lk.search_targetpixelfile(star_id, quarter=1).download(quality_bitmask='hardest')\n",
    "    lc = pixelfile.to_lightcurve(aperture_mask='all')\n",
    "    lc_time, lc_flux = lc.time, lc.flux\n",
    "    lc_flux /= max(lc_flux)\n",
    "    np.save(\"time_{}.npy\".format(star_id), lc_time)\n",
    "    np.save(\"flux_{}.npy\".format(star_id), lc_flux)\n",
    "\n",
    "# TIC Contamination Ratio\t0.05501"
   ]
  },
  {
   "cell_type": "code",
   "execution_count": 1,
   "metadata": {},
   "outputs": [
    {
     "ename": "NameError",
     "evalue": "name 'EKFilter' is not defined",
     "output_type": "error",
     "traceback": [
      "\u001b[0;31m---------------------------------------------------------------------------\u001b[0m",
      "\u001b[0;31mNameError\u001b[0m                                 Traceback (most recent call last)",
      "\u001b[0;32m<ipython-input-1-f9dce2e64abc>\u001b[0m in \u001b[0;36m<module>\u001b[0;34m\u001b[0m\n\u001b[0;32m----> 1\u001b[0;31m lightcurve_filter = EKFilter(f=lightcurve_state_transition, Q=Q, h=lightcurve_measure, R=R, state=np.array([\n\u001b[0m\u001b[1;32m      2\u001b[0m     \u001b[0mlc_flux\u001b[0m\u001b[0;34m[\u001b[0m\u001b[0;36m0\u001b[0m\u001b[0;34m]\u001b[0m\u001b[0;34m,\u001b[0m\u001b[0;34m\u001b[0m\u001b[0;34m\u001b[0m\u001b[0m\n\u001b[1;32m      3\u001b[0m     \u001b[0;36m0\u001b[0m\u001b[0;34m,\u001b[0m\u001b[0;34m\u001b[0m\u001b[0;34m\u001b[0m\u001b[0m\n\u001b[1;32m      4\u001b[0m     \u001b[0mparams\u001b[0m\u001b[0;34m.\u001b[0m\u001b[0mper\u001b[0m\u001b[0;34m,\u001b[0m\u001b[0;34m\u001b[0m\u001b[0;34m\u001b[0m\u001b[0m\n\u001b[1;32m      5\u001b[0m     \u001b[0mparams\u001b[0m\u001b[0;34m.\u001b[0m\u001b[0mrp\u001b[0m\u001b[0;34m,\u001b[0m \u001b[0;31m# normalized prad\u001b[0m\u001b[0;34m\u001b[0m\u001b[0;34m\u001b[0m\u001b[0m\n",
      "\u001b[0;31mNameError\u001b[0m: name 'EKFilter' is not defined"
     ]
    }
   ],
   "source": [
    "lightcurve_filter = EKFilter(f=lightcurve_state_transition, Q=Q, h=lightcurve_measure, R=R, state=np.array([\n",
    "    lc_flux[0],\n",
    "    0,\n",
    "    params.per,\n",
    "    params.rp, # normalized prad\n",
    "    90.,\n",
    "    0.,\n",
    "    0.,\n",
    "    *[1.,0.,0.,0.]\n",
    "], dtype=np.float64))\n",
    "\n",
    "compute_lightcurve(lightcurve_filter.state)"
   ]
  },
  {
   "cell_type": "code",
   "execution_count": null,
   "metadata": {},
   "outputs": [],
   "source": [
    "num_steps = 2881\n",
    "kf_test_results = np.empty(num_steps)\n",
    "for i in tqdm.trange(num_steps):\n",
    "    lightcurve_filter.predict()\n",
    "    lightcurve_filter.update(model_flux[i])\n",
    "    kf_test_results[i] = lightcurve_measure(lightcurve_filter.state)\n",
    "    \n",
    "plt.plot(kf_test_results, label='kf')\n",
    "plt.plot(model_flux[:num_steps], label='source data')\n",
    "plt.legend()"
   ]
  },
  {
   "cell_type": "code",
   "execution_count": null,
   "metadata": {},
   "outputs": [],
   "source": [
    "num_steps = 1200\n",
    "kf_test_results = np.empty(num_steps)\n",
    "for i in tqdm.trange(num_steps):\n",
    "    lightcurve_filter.predict()\n",
    "    lightcurve_filter.update(lc_flux[i])\n",
    "    kf_test_results[i] = lightcurve_measure(lightcurve_filter.state)\n",
    "    \n",
    "plt.plot(kf_test_results, label='kf')"
   ]
  },
  {
   "cell_type": "code",
   "execution_count": null,
   "metadata": {},
   "outputs": [],
   "source": [
    "plt.plot(lc_flux[:num_steps])"
   ]
  },
  {
   "cell_type": "code",
   "execution_count": null,
   "metadata": {},
   "outputs": [],
   "source": [
    "lightcurve_filter.state"
   ]
  },
  {
   "cell_type": "code",
   "execution_count": null,
   "metadata": {},
   "outputs": [],
   "source": []
  }
 ],
 "metadata": {
  "kernelspec": {
   "display_name": "Python 3",
   "language": "python",
   "name": "python3"
  },
  "language_info": {
   "codemirror_mode": {
    "name": "ipython",
    "version": 3
   },
   "file_extension": ".py",
   "mimetype": "text/x-python",
   "name": "python",
   "nbconvert_exporter": "python",
   "pygments_lexer": "ipython3",
   "version": "3.7.7"
  }
 },
 "nbformat": 4,
 "nbformat_minor": 2
}
