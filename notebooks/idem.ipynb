{
 "cells": [
  {
   "cell_type": "markdown",
   "metadata": {},
   "source": [
    "# Aim\n",
    "\n",
    "Inverse detection efficiency completeness calculation on TESS data.\n",
    "\n",
    "IDEM as in Appendix A of Hsu 2018 (https://arxiv.org/pdf/1803.10787.pdf)."
   ]
  },
  {
   "cell_type": "code",
   "execution_count": 24,
   "metadata": {},
   "outputs": [
    {
     "name": "stdout",
     "output_type": "stream",
     "text": [
      "The autoreload extension is already loaded. To reload it, use:\n",
      "  %reload_ext autoreload\n"
     ]
    }
   ],
   "source": [
    "import pandas as pd\n",
    "from matplotlib import pyplot as plt\n",
    "import numpy as np\n",
    "import sys\n",
    "sys.path.append('..')\n",
    "from tqdm.notebook import tqdm\n",
    "from os import path\n",
    "from dev import utils\n",
    "\n",
    "%load_ext autoreload\n",
    "%autoreload 2"
   ]
  },
  {
   "cell_type": "code",
   "execution_count": 38,
   "metadata": {},
   "outputs": [
    {
     "data": {
      "text/plain": [
       "'/Users/adityasengupta/projects/pals/tesscomp-prototyping/data/tesstargets/'"
      ]
     },
     "execution_count": 38,
     "metadata": {},
     "output_type": "execute_result"
    }
   ],
   "source": [
    "import os\n",
    "os.path.abspath(os.path.dirname(os.getcwd())) + \"/data/tesstargets/\""
   ]
  },
  {
   "cell_type": "code",
   "execution_count": 55,
   "metadata": {},
   "outputs": [],
   "source": [
    "stellar = utils.get_tess_stellar().drop_duplicates(\"ID\")"
   ]
  },
  {
   "cell_type": "code",
   "execution_count": 56,
   "metadata": {},
   "outputs": [
    {
     "name": "stdout",
     "output_type": "stream",
     "text": [
      "['Unnamed: 0', 'ID', 'version', 'HIP', 'TYC', 'UCAC', 'TWOMASS', 'SDSS', 'ALLWISE', 'GAIA', 'APASS', 'KIC', 'objType', 'typeSrc', 'ra', 'dec', 'POSflag', 'pmRA', 'e_pmRA', 'pmDEC', 'e_pmDEC', 'PMflag', 'plx', 'e_plx', 'PARflag', 'gallong', 'gallat', 'eclong', 'eclat', 'Bmag', 'e_Bmag', 'Vmag', 'e_Vmag', 'umag', 'e_umag', 'gmag', 'e_gmag', 'rmag', 'e_rmag', 'imag', 'e_imag', 'zmag', 'e_zmag', 'Jmag', 'e_Jmag', 'Hmag', 'e_Hmag', 'Kmag', 'e_Kmag', 'TWOMflag', 'prox', 'w1mag', 'e_w1mag', 'w2mag', 'e_w2mag', 'w3mag', 'e_w3mag', 'w4mag', 'e_w4mag', 'GAIAmag', 'e_GAIAmag', 'Tmag', 'e_Tmag', 'TESSflag', 'SPFlag', 'Teff', 'e_Teff', 'logg', 'e_logg', 'MH', 'e_MH', 'rad', 'e_rad', 'mass', 'e_mass', 'rho', 'e_rho', 'lumclass', 'lum', 'e_lum', 'd', 'e_d', 'ebv', 'e_ebv', 'numcont', 'contratio', 'disposition', 'duplicate_id', 'priority', 'eneg_EBV', 'epos_EBV', 'EBVflag', 'eneg_Mass', 'epos_Mass', 'eneg_Rad', 'epos_Rad', 'eneg_rho', 'epos_rho', 'eneg_logg', 'epos_logg', 'eneg_lum', 'epos_lum', 'eneg_dist', 'epos_dist', 'distflag', 'eneg_Teff', 'epos_Teff', 'TeffFlag', 'gaiabp', 'e_gaiabp', 'gaiarp', 'e_gaiarp', 'gaiaqflag', 'starchareFlag', 'VmagFlag', 'BmagFlag', 'splists', 'e_RA', 'e_Dec', 'RA_orig', 'Dec_orig', 'e_RA_orig', 'e_Dec_orig', 'raddflag', 'wdflag', 'objID', 'TICID', 'Camera', 'CCD'] "
     ]
    }
   ],
   "source": [
    "print([k for k in stellar.keys()], end=\" \")"
   ]
  },
  {
   "cell_type": "code",
   "execution_count": 57,
   "metadata": {},
   "outputs": [
    {
     "data": {
      "text/html": [
       "<div>\n",
       "<style scoped>\n",
       "    .dataframe tbody tr th:only-of-type {\n",
       "        vertical-align: middle;\n",
       "    }\n",
       "\n",
       "    .dataframe tbody tr th {\n",
       "        vertical-align: top;\n",
       "    }\n",
       "\n",
       "    .dataframe thead th {\n",
       "        text-align: right;\n",
       "    }\n",
       "</style>\n",
       "<table border=\"1\" class=\"dataframe\">\n",
       "  <thead>\n",
       "    <tr style=\"text-align: right;\">\n",
       "      <th></th>\n",
       "      <th>Unnamed: 0</th>\n",
       "      <th>ID</th>\n",
       "      <th>version</th>\n",
       "      <th>HIP</th>\n",
       "      <th>TYC</th>\n",
       "      <th>UCAC</th>\n",
       "      <th>TWOMASS</th>\n",
       "      <th>SDSS</th>\n",
       "      <th>ALLWISE</th>\n",
       "      <th>GAIA</th>\n",
       "      <th>...</th>\n",
       "      <th>RA_orig</th>\n",
       "      <th>Dec_orig</th>\n",
       "      <th>e_RA_orig</th>\n",
       "      <th>e_Dec_orig</th>\n",
       "      <th>raddflag</th>\n",
       "      <th>wdflag</th>\n",
       "      <th>objID</th>\n",
       "      <th>TICID</th>\n",
       "      <th>Camera</th>\n",
       "      <th>CCD</th>\n",
       "    </tr>\n",
       "  </thead>\n",
       "  <tbody>\n",
       "    <tr>\n",
       "      <th>0</th>\n",
       "      <td>0</td>\n",
       "      <td>201235927</td>\n",
       "      <td>20190415</td>\n",
       "      <td>-1</td>\n",
       "      <td>8464-00498-1</td>\n",
       "      <td>180-000014</td>\n",
       "      <td>00002830-5404296</td>\n",
       "      <td>-1</td>\n",
       "      <td>J000028.29-540429.7</td>\n",
       "      <td>4971992409732044928</td>\n",
       "      <td>...</td>\n",
       "      <td>0.117907</td>\n",
       "      <td>-54.074922</td>\n",
       "      <td>0.036299</td>\n",
       "      <td>0.030279</td>\n",
       "      <td>1.0</td>\n",
       "      <td>0</td>\n",
       "      <td>507486390</td>\n",
       "      <td>201235927</td>\n",
       "      <td>2</td>\n",
       "      <td>2</td>\n",
       "    </tr>\n",
       "    <tr>\n",
       "      <th>1</th>\n",
       "      <td>1</td>\n",
       "      <td>201247149</td>\n",
       "      <td>20190415</td>\n",
       "      <td>-1</td>\n",
       "      <td>8470-00866-1</td>\n",
       "      <td>157-000001</td>\n",
       "      <td>00000193-5843068</td>\n",
       "      <td>-1</td>\n",
       "      <td>J000001.89-584306.5</td>\n",
       "      <td>4919074289477561472</td>\n",
       "      <td>...</td>\n",
       "      <td>0.007807</td>\n",
       "      <td>-58.718474</td>\n",
       "      <td>0.020633</td>\n",
       "      <td>0.018711</td>\n",
       "      <td>1.0</td>\n",
       "      <td>0</td>\n",
       "      <td>507487171</td>\n",
       "      <td>201247149</td>\n",
       "      <td>2</td>\n",
       "      <td>2</td>\n",
       "    </tr>\n",
       "    <tr>\n",
       "      <th>2</th>\n",
       "      <td>2</td>\n",
       "      <td>201247436</td>\n",
       "      <td>20190415</td>\n",
       "      <td>-1</td>\n",
       "      <td>8470-01087-1</td>\n",
       "      <td>151-000015</td>\n",
       "      <td>00011622-5949402</td>\n",
       "      <td>-1</td>\n",
       "      <td>J000116.25-594940.3</td>\n",
       "      <td>4918008072436519040</td>\n",
       "      <td>...</td>\n",
       "      <td>0.317765</td>\n",
       "      <td>-59.827872</td>\n",
       "      <td>0.020750</td>\n",
       "      <td>0.018449</td>\n",
       "      <td>1.0</td>\n",
       "      <td>0</td>\n",
       "      <td>507487417</td>\n",
       "      <td>201247436</td>\n",
       "      <td>2</td>\n",
       "      <td>2</td>\n",
       "    </tr>\n",
       "    <tr>\n",
       "      <th>3</th>\n",
       "      <td>3</td>\n",
       "      <td>201248233</td>\n",
       "      <td>20190415</td>\n",
       "      <td>-1</td>\n",
       "      <td>-1</td>\n",
       "      <td>172-000020</td>\n",
       "      <td>00012547-5539491</td>\n",
       "      <td>-1</td>\n",
       "      <td>J000125.80-553948.2</td>\n",
       "      <td>4923563835972259456</td>\n",
       "      <td>...</td>\n",
       "      <td>0.358133</td>\n",
       "      <td>-55.663285</td>\n",
       "      <td>0.038647</td>\n",
       "      <td>0.036456</td>\n",
       "      <td>1.0</td>\n",
       "      <td>0</td>\n",
       "      <td>507488214</td>\n",
       "      <td>201248233</td>\n",
       "      <td>2</td>\n",
       "      <td>2</td>\n",
       "    </tr>\n",
       "    <tr>\n",
       "      <th>4</th>\n",
       "      <td>4</td>\n",
       "      <td>201248310</td>\n",
       "      <td>20190415</td>\n",
       "      <td>-1</td>\n",
       "      <td>8467-01288-1</td>\n",
       "      <td>174-000020</td>\n",
       "      <td>00005899-5517023</td>\n",
       "      <td>-1</td>\n",
       "      <td>J000059.02-551702.0</td>\n",
       "      <td>4923637331452674688</td>\n",
       "      <td>...</td>\n",
       "      <td>0.246014</td>\n",
       "      <td>-55.283879</td>\n",
       "      <td>0.017768</td>\n",
       "      <td>0.016856</td>\n",
       "      <td>1.0</td>\n",
       "      <td>0</td>\n",
       "      <td>507488291</td>\n",
       "      <td>201248310</td>\n",
       "      <td>2</td>\n",
       "      <td>2</td>\n",
       "    </tr>\n",
       "    <tr>\n",
       "      <th>...</th>\n",
       "      <td>...</td>\n",
       "      <td>...</td>\n",
       "      <td>...</td>\n",
       "      <td>...</td>\n",
       "      <td>...</td>\n",
       "      <td>...</td>\n",
       "      <td>...</td>\n",
       "      <td>...</td>\n",
       "      <td>...</td>\n",
       "      <td>...</td>\n",
       "      <td>...</td>\n",
       "      <td>...</td>\n",
       "      <td>...</td>\n",
       "      <td>...</td>\n",
       "      <td>...</td>\n",
       "      <td>...</td>\n",
       "      <td>...</td>\n",
       "      <td>...</td>\n",
       "      <td>...</td>\n",
       "      <td>...</td>\n",
       "      <td>...</td>\n",
       "    </tr>\n",
       "    <tr>\n",
       "      <th>19995</th>\n",
       "      <td>19995</td>\n",
       "      <td>325525231</td>\n",
       "      <td>20190415</td>\n",
       "      <td>-1</td>\n",
       "      <td>-1</td>\n",
       "      <td>037-015611</td>\n",
       "      <td>23573768-8247143</td>\n",
       "      <td>-1</td>\n",
       "      <td>J235737.73-824714.3</td>\n",
       "      <td>6350261433791466880</td>\n",
       "      <td>...</td>\n",
       "      <td>359.407214</td>\n",
       "      <td>-82.787325</td>\n",
       "      <td>0.024433</td>\n",
       "      <td>0.019693</td>\n",
       "      <td>0.0</td>\n",
       "      <td>0</td>\n",
       "      <td>1726185600</td>\n",
       "      <td>325525231</td>\n",
       "      <td>3</td>\n",
       "      <td>2</td>\n",
       "    </tr>\n",
       "    <tr>\n",
       "      <th>19996</th>\n",
       "      <td>19996</td>\n",
       "      <td>327856083</td>\n",
       "      <td>20190415</td>\n",
       "      <td>-1</td>\n",
       "      <td>-1</td>\n",
       "      <td>-1</td>\n",
       "      <td>23572841-8621078</td>\n",
       "      <td>-1</td>\n",
       "      <td>J235728.44-862107.9</td>\n",
       "      <td>6343367117929826048</td>\n",
       "      <td>...</td>\n",
       "      <td>359.367910</td>\n",
       "      <td>-86.352216</td>\n",
       "      <td>0.528593</td>\n",
       "      <td>0.448568</td>\n",
       "      <td>1.0</td>\n",
       "      <td>1</td>\n",
       "      <td>1726186486</td>\n",
       "      <td>327856083</td>\n",
       "      <td>3</td>\n",
       "      <td>3</td>\n",
       "    </tr>\n",
       "    <tr>\n",
       "      <th>19997</th>\n",
       "      <td>19997</td>\n",
       "      <td>327856208</td>\n",
       "      <td>20190415</td>\n",
       "      <td>-1</td>\n",
       "      <td>-1</td>\n",
       "      <td>017-007154</td>\n",
       "      <td>23573581-8646411</td>\n",
       "      <td>-1</td>\n",
       "      <td>J235735.31-864641.5</td>\n",
       "      <td>6343331143283809152</td>\n",
       "      <td>...</td>\n",
       "      <td>359.399858</td>\n",
       "      <td>-86.778104</td>\n",
       "      <td>0.047661</td>\n",
       "      <td>0.039175</td>\n",
       "      <td>1.0</td>\n",
       "      <td>1</td>\n",
       "      <td>1726186547</td>\n",
       "      <td>327856208</td>\n",
       "      <td>3</td>\n",
       "      <td>3</td>\n",
       "    </tr>\n",
       "    <tr>\n",
       "      <th>19998</th>\n",
       "      <td>19998</td>\n",
       "      <td>2054551666</td>\n",
       "      <td>20190415</td>\n",
       "      <td>-1</td>\n",
       "      <td>-1</td>\n",
       "      <td>-1</td>\n",
       "      <td>-1</td>\n",
       "      <td>-1</td>\n",
       "      <td>-1</td>\n",
       "      <td>6352373385175322496</td>\n",
       "      <td>...</td>\n",
       "      <td>359.142920</td>\n",
       "      <td>-80.499279</td>\n",
       "      <td>0.086944</td>\n",
       "      <td>0.065817</td>\n",
       "      <td>-1.0</td>\n",
       "      <td>1</td>\n",
       "      <td>1726282677</td>\n",
       "      <td>2054551666</td>\n",
       "      <td>3</td>\n",
       "      <td>2</td>\n",
       "    </tr>\n",
       "    <tr>\n",
       "      <th>19999</th>\n",
       "      <td>19999</td>\n",
       "      <td>2054645007</td>\n",
       "      <td>20190415</td>\n",
       "      <td>-1</td>\n",
       "      <td>-1</td>\n",
       "      <td>-1</td>\n",
       "      <td>-1</td>\n",
       "      <td>-1</td>\n",
       "      <td>-1</td>\n",
       "      <td>6377846355171606400</td>\n",
       "      <td>...</td>\n",
       "      <td>359.441544</td>\n",
       "      <td>-75.390875</td>\n",
       "      <td>0.111058</td>\n",
       "      <td>0.071417</td>\n",
       "      <td>1.0</td>\n",
       "      <td>1</td>\n",
       "      <td>1726288635</td>\n",
       "      <td>2054645007</td>\n",
       "      <td>3</td>\n",
       "      <td>1</td>\n",
       "    </tr>\n",
       "  </tbody>\n",
       "</table>\n",
       "<p>244730 rows × 129 columns</p>\n",
       "</div>"
      ],
      "text/plain": [
       "       Unnamed: 0          ID   version  HIP           TYC        UCAC  \\\n",
       "0               0   201235927  20190415   -1  8464-00498-1  180-000014   \n",
       "1               1   201247149  20190415   -1  8470-00866-1  157-000001   \n",
       "2               2   201247436  20190415   -1  8470-01087-1  151-000015   \n",
       "3               3   201248233  20190415   -1            -1  172-000020   \n",
       "4               4   201248310  20190415   -1  8467-01288-1  174-000020   \n",
       "...           ...         ...       ...  ...           ...         ...   \n",
       "19995       19995   325525231  20190415   -1            -1  037-015611   \n",
       "19996       19996   327856083  20190415   -1            -1          -1   \n",
       "19997       19997   327856208  20190415   -1            -1  017-007154   \n",
       "19998       19998  2054551666  20190415   -1            -1          -1   \n",
       "19999       19999  2054645007  20190415   -1            -1          -1   \n",
       "\n",
       "                TWOMASS  SDSS              ALLWISE                 GAIA  ...  \\\n",
       "0      00002830-5404296    -1  J000028.29-540429.7  4971992409732044928  ...   \n",
       "1      00000193-5843068    -1  J000001.89-584306.5  4919074289477561472  ...   \n",
       "2      00011622-5949402    -1  J000116.25-594940.3  4918008072436519040  ...   \n",
       "3      00012547-5539491    -1  J000125.80-553948.2  4923563835972259456  ...   \n",
       "4      00005899-5517023    -1  J000059.02-551702.0  4923637331452674688  ...   \n",
       "...                 ...   ...                  ...                  ...  ...   \n",
       "19995  23573768-8247143    -1  J235737.73-824714.3  6350261433791466880  ...   \n",
       "19996  23572841-8621078    -1  J235728.44-862107.9  6343367117929826048  ...   \n",
       "19997  23573581-8646411    -1  J235735.31-864641.5  6343331143283809152  ...   \n",
       "19998                -1    -1                   -1  6352373385175322496  ...   \n",
       "19999                -1    -1                   -1  6377846355171606400  ...   \n",
       "\n",
       "          RA_orig   Dec_orig e_RA_orig e_Dec_orig  raddflag  wdflag  \\\n",
       "0        0.117907 -54.074922  0.036299   0.030279       1.0       0   \n",
       "1        0.007807 -58.718474  0.020633   0.018711       1.0       0   \n",
       "2        0.317765 -59.827872  0.020750   0.018449       1.0       0   \n",
       "3        0.358133 -55.663285  0.038647   0.036456       1.0       0   \n",
       "4        0.246014 -55.283879  0.017768   0.016856       1.0       0   \n",
       "...           ...        ...       ...        ...       ...     ...   \n",
       "19995  359.407214 -82.787325  0.024433   0.019693       0.0       0   \n",
       "19996  359.367910 -86.352216  0.528593   0.448568       1.0       1   \n",
       "19997  359.399858 -86.778104  0.047661   0.039175       1.0       1   \n",
       "19998  359.142920 -80.499279  0.086944   0.065817      -1.0       1   \n",
       "19999  359.441544 -75.390875  0.111058   0.071417       1.0       1   \n",
       "\n",
       "            objID       TICID  Camera  CCD  \n",
       "0       507486390   201235927       2    2  \n",
       "1       507487171   201247149       2    2  \n",
       "2       507487417   201247436       2    2  \n",
       "3       507488214   201248233       2    2  \n",
       "4       507488291   201248310       2    2  \n",
       "...           ...         ...     ...  ...  \n",
       "19995  1726185600   325525231       3    2  \n",
       "19996  1726186486   327856083       3    3  \n",
       "19997  1726186547   327856208       3    3  \n",
       "19998  1726282677  2054551666       3    2  \n",
       "19999  1726288635  2054645007       3    1  \n",
       "\n",
       "[244730 rows x 129 columns]"
      ]
     },
     "execution_count": 57,
     "metadata": {},
     "output_type": "execute_result"
    }
   ],
   "source": [
    "stellar"
   ]
  },
  {
   "cell_type": "code",
   "execution_count": 48,
   "metadata": {},
   "outputs": [],
   "source": [
    "planetary = utils.get_tois()"
   ]
  },
  {
   "cell_type": "code",
   "execution_count": 49,
   "metadata": {},
   "outputs": [
    {
     "data": {
      "text/plain": [
       "Index(['Source Pipeline', 'TIC', 'Full TOI ID', 'TOI Disposition',\n",
       "       'TIC Right Ascension', 'TIC Declination', 'TMag Value',\n",
       "       'TMag Uncertainty', 'Orbital Epoch Value', 'Orbital Epoch Error',\n",
       "       'Orbital Period Value', 'Orbital Period Error',\n",
       "       'Transit Duration Value', 'Transit Duration Error',\n",
       "       'Transit Depth Value', 'Transit Depth Error', 'Sectors',\n",
       "       'Public Comment', 'Surface Gravity Value',\n",
       "       'Surface Gravity Uncertainty', 'Signal ID', 'Star Radius Value',\n",
       "       'Star Radius Error', 'Planet Radius Value', 'Planet Radius Error',\n",
       "       'Planet Equilibrium Temperature (K) Value',\n",
       "       'Effective Temperature Value', 'Effective Temperature Uncertainty',\n",
       "       'Effective Stellar Flux Value', 'Signal-to-noise', 'Centroid Offset',\n",
       "       'TFOP Master', 'TFOP SG1a', 'TFOP SG1b', 'TFOP SG2', 'TFOP SG3',\n",
       "       'TFOP SG4', 'TFOP SG5', 'Alerted', 'Updated'],\n",
       "      dtype='object')"
      ]
     },
     "execution_count": 49,
     "metadata": {},
     "output_type": "execute_result"
    }
   ],
   "source": [
    "planetary.keys()"
   ]
  },
  {
   "cell_type": "code",
   "execution_count": 51,
   "metadata": {},
   "outputs": [],
   "source": [
    "planetary = planetary[np.isfinite(planetary['Planet Radius Value'])]"
   ]
  },
  {
   "cell_type": "code",
   "execution_count": 52,
   "metadata": {},
   "outputs": [
    {
     "data": {
      "text/plain": [
       "(array([ 1.,  0.,  1.,  0.,  2.,  2.,  3.,  2.,  6.,  9., 11.,  9., 13.,\n",
       "        20., 13., 17., 22., 27., 24., 25., 40., 66., 53., 49., 46., 41.,\n",
       "        45., 44., 41., 42., 32., 30., 29., 40., 22., 28., 28., 35., 34.,\n",
       "        33., 25., 35., 29., 43., 38., 44., 44., 54., 71., 65., 74., 74.,\n",
       "        55., 45., 46., 49., 46., 38., 24., 18., 11., 11., 13.,  9.,  5.,\n",
       "         4.,  3.,  1.,  4.,  3.,  0.,  4.,  0.,  3.,  0.,  0.,  0.,  0.,\n",
       "         0.,  0.,  0.,  0.,  0.,  0.,  0.,  0.,  0.,  0.,  0.,  0.,  0.,\n",
       "         0.,  1.,  0.,  0.,  0.,  0.,  0.,  0.,  2.]),\n",
       " array([-0.4661678 , -0.4049576 , -0.34374741, -0.28253722, -0.22132703,\n",
       "        -0.16011684, -0.09890665, -0.03769646,  0.02351373,  0.08472392,\n",
       "         0.14593411,  0.20714431,  0.2683545 ,  0.32956469,  0.39077488,\n",
       "         0.45198507,  0.51319526,  0.57440545,  0.63561564,  0.69682583,\n",
       "         0.75803602,  0.81924621,  0.88045641,  0.9416666 ,  1.00287679,\n",
       "         1.06408698,  1.12529717,  1.18650736,  1.24771755,  1.30892774,\n",
       "         1.37013793,  1.43134812,  1.49255832,  1.55376851,  1.6149787 ,\n",
       "         1.67618889,  1.73739908,  1.79860927,  1.85981946,  1.92102965,\n",
       "         1.98223984,  2.04345003,  2.10466022,  2.16587042,  2.22708061,\n",
       "         2.2882908 ,  2.34950099,  2.41071118,  2.47192137,  2.53313156,\n",
       "         2.59434175,  2.65555194,  2.71676213,  2.77797233,  2.83918252,\n",
       "         2.90039271,  2.9616029 ,  3.02281309,  3.08402328,  3.14523347,\n",
       "         3.20644366,  3.26765385,  3.32886404,  3.39007424,  3.45128443,\n",
       "         3.51249462,  3.57370481,  3.634915  ,  3.69612519,  3.75733538,\n",
       "         3.81854557,  3.87975576,  3.94096595,  4.00217614,  4.06338634,\n",
       "         4.12459653,  4.18580672,  4.24701691,  4.3082271 ,  4.36943729,\n",
       "         4.43064748,  4.49185767,  4.55306786,  4.61427805,  4.67548825,\n",
       "         4.73669844,  4.79790863,  4.85911882,  4.92032901,  4.9815392 ,\n",
       "         5.04274939,  5.10395958,  5.16516977,  5.22637996,  5.28759015,\n",
       "         5.34880035,  5.41001054,  5.47122073,  5.53243092,  5.59364111,\n",
       "         5.6548513 ]),\n",
       " <a list of 100 Patch objects>)"
      ]
     },
     "execution_count": 52,
     "metadata": {},
     "output_type": "execute_result"
    },
    {
     "data": {
      "image/png": "[encoded data removed]",
      "text/plain": [
       "<Figure size 432x288 with 1 Axes>"
      ]
     },
     "metadata": {
      "needs_background": "light"
     },
     "output_type": "display_data"
    }
   ],
   "source": [
    "# let's group all these planets into buckets based on planet size and orbital period!\n",
    "radii = np.array(planetary['Planet Radius Value'])\n",
    "plt.hist(np.log(radii), bins=100)"
   ]
  },
  {
   "cell_type": "code",
   "execution_count": 53,
   "metadata": {},
   "outputs": [
    {
     "name": "stderr",
     "output_type": "stream",
     "text": [
      "/usr/local/lib/python3.7/site-packages/numpy/lib/histograms.py:839: RuntimeWarning: invalid value encountered in greater_equal\n",
      "  keep = (tmp_a >= first_edge)\n",
      "/usr/local/lib/python3.7/site-packages/numpy/lib/histograms.py:840: RuntimeWarning: invalid value encountered in less_equal\n",
      "  keep &= (tmp_a <= last_edge)\n"
     ]
    },
    {
     "data": {
      "text/plain": [
       "(array([ 2.,  3.,  1.,  3.,  3.,  1.,  3.,  4.,  8.,  6., 14., 11., 10.,\n",
       "        17., 11.,  9., 22., 16., 14., 17., 18., 22., 19., 32., 28., 34.,\n",
       "        33., 31., 37., 38., 20., 38., 38., 36., 41., 52., 37., 55., 57.,\n",
       "        67., 57., 50., 51., 63., 34., 55., 44., 48., 35., 32., 26., 31.,\n",
       "        41., 31., 36., 51., 23., 31., 32., 27., 19., 22., 27., 17., 12.,\n",
       "        11.,  9., 10.,  7.,  8.,  6.,  6.,  2.,  8.,  8.,  1.,  3.,  4.,\n",
       "         7.,  1.,  1.,  2.,  3.,  0.,  2.,  2.,  2.,  2.,  1.,  0.,  1.,\n",
       "         0.,  1.,  0.,  1.,  0.,  3.,  1.,  0.,  1.]),\n",
       " array([-1.3970318 , -1.32864037, -1.26024893, -1.19185749, -1.12346606,\n",
       "        -1.05507462, -0.98668318, -0.91829175, -0.84990031, -0.78150887,\n",
       "        -0.71311744, -0.644726  , -0.57633456, -0.50794313, -0.43955169,\n",
       "        -0.37116025, -0.30276882, -0.23437738, -0.16598594, -0.09759451,\n",
       "        -0.02920307,  0.03918837,  0.1075798 ,  0.17597124,  0.24436268,\n",
       "         0.31275411,  0.38114555,  0.44953699,  0.51792842,  0.58631986,\n",
       "         0.6547113 ,  0.72310273,  0.79149417,  0.85988561,  0.92827704,\n",
       "         0.99666848,  1.06505992,  1.13345135,  1.20184279,  1.27023423,\n",
       "         1.33862566,  1.4070171 ,  1.47540854,  1.54379997,  1.61219141,\n",
       "         1.68058285,  1.74897428,  1.81736572,  1.88575716,  1.95414859,\n",
       "         2.02254003,  2.09093147,  2.1593229 ,  2.22771434,  2.29610577,\n",
       "         2.36449721,  2.43288865,  2.50128008,  2.56967152,  2.63806296,\n",
       "         2.70645439,  2.77484583,  2.84323727,  2.9116287 ,  2.98002014,\n",
       "         3.04841158,  3.11680301,  3.18519445,  3.25358589,  3.32197732,\n",
       "         3.39036876,  3.4587602 ,  3.52715163,  3.59554307,  3.66393451,\n",
       "         3.73232594,  3.80071738,  3.86910882,  3.93750025,  4.00589169,\n",
       "         4.07428313,  4.14267456,  4.211066  ,  4.27945744,  4.34784887,\n",
       "         4.41624031,  4.48463175,  4.55302318,  4.62141462,  4.68980606,\n",
       "         4.75819749,  4.82658893,  4.89498037,  4.9633718 ,  5.03176324,\n",
       "         5.10015468,  5.16854611,  5.23693755,  5.30532899,  5.37372042,\n",
       "         5.44211186]),\n",
       " <a list of 100 Patch objects>)"
      ]
     },
     "execution_count": 53,
     "metadata": {},
     "output_type": "execute_result"
    },
    {
     "data": {
      "image/png": "[encoded data removed]",
      "text/plain": [
       "<Figure size 432x288 with 1 Axes>"
      ]
     },
     "metadata": {
      "needs_background": "light"
     },
     "output_type": "display_data"
    }
   ],
   "source": [
    "periods = np.array(planetary['Orbital Period Value'])\n",
    "plt.hist(np.log(periods), bins=100)"
   ]
  },
  {
   "cell_type": "code",
   "execution_count": 54,
   "metadata": {},
   "outputs": [
    {
     "data": {
      "text/plain": [
       "Text(0, 0.5, 'Log-radius (ln Earth radii)')"
      ]
     },
     "execution_count": 54,
     "metadata": {},
     "output_type": "execute_result"
    },
    {
     "data": {
      "image/png": "[encoded data removed]",
      "text/plain": [
       "<Figure size 432x288 with 1 Axes>"
      ]
     },
     "metadata": {
      "needs_background": "light"
     },
     "output_type": "display_data"
    }
   ],
   "source": [
    "plt.plot(np.log(periods), np.log(radii), \".k\")\n",
    "plt.xlabel(\"Log-period (ln days)\")\n",
    "plt.ylabel(\"Log-radius (ln Earth radii)\")"
   ]
  },
  {
   "cell_type": "code",
   "execution_count": 107,
   "metadata": {},
   "outputs": [
    {
     "data": {
      "text/plain": [
       "947"
      ]
     },
     "execution_count": 107,
     "metadata": {},
     "output_type": "execute_result"
    }
   ],
   "source": [
    "planetary = planetary[planetary['TOI Disposition'] == \"PC\"]\n",
    "planetary = planetary[np.isfinite(planetary[\"Orbital Period Value\"])]\n",
    "combined = pd.merge(planetary, stellar, left_on=\"TIC\", right_on=\"ID\")\n",
    "combined = combined[np.isfinite(combined[\"mass\"])]\n",
    "combined = combined[combined[\"mass\"] >= 0.0]\n",
    "rstars = combined['rad'].values \n",
    "mstars = combined['mass'].values\n",
    "periods = combined['Orbital Period Value'].values\n",
    "prads = combined['Planet Radius Value'].values\n",
    "len(combined)"
   ]
  },
  {
   "cell_type": "code",
   "execution_count": 108,
   "metadata": {},
   "outputs": [],
   "source": [
    "def get_a(period, mstar, Go4pi=2945.4625385377644/(4*np.pi*np.pi)):\n",
    "    # dfm.io/posts/exopop\n",
    "    \"\"\"\n",
    "    Compute the semi-major axis of an orbit in Solar radii.\n",
    "    \n",
    "    :param period: the period in days\n",
    "    :param mstar:  the stellar mass in Solar masses\n",
    "    \n",
    "    \"\"\"\n",
    "    return (Go4pi*period*period*mstar) ** (1./3)\n",
    "\n",
    "pgeoms = rstars / get_a(periods, mstars)"
   ]
  },
  {
   "cell_type": "code",
   "execution_count": 110,
   "metadata": {},
   "outputs": [
    {
     "data": {
      "text/plain": [
       "(array([573., 224.,  73.,  34.,  16.,  11.,   3.,   8.,   2.,   3.]),\n",
       " array([0.0043306 , 0.09462737, 0.18492413, 0.27522089, 0.36551766,\n",
       "        0.45581442, 0.54611118, 0.63640795, 0.72670471, 0.81700147,\n",
       "        0.90729823]),\n",
       " <a list of 10 Patch objects>)"
      ]
     },
     "execution_count": 110,
     "metadata": {},
     "output_type": "execute_result"
    },
    {
     "data": {
      "image/png": "[encoded data removed]",
      "text/plain": [
       "<Figure size 432x288 with 1 Axes>"
      ]
     },
     "metadata": {
      "needs_background": "light"
     },
     "output_type": "display_data"
    }
   ],
   "source": [
    "plt.hist(pgeoms)"
   ]
  },
  {
   "cell_type": "code",
   "execution_count": null,
   "metadata": {},
   "outputs": [],
   "source": [
    "# these things should be an import from completeness.py\n",
    "# except that this only uses pdet and not pwin\n",
    "\n",
    "cdpp_cols = [k for k in stellar.keys() if k.startswith(\"rrmscdpp\")]\n",
    "cdpp_vals = np.array([k[-4:].replace(\"p\", \".\") for k in cdpp_cols], dtype=float)\n",
    "pgam = gamma(4.65, loc=0., scale=0.98)\n",
    "mesthres_cols = [k for k in stellar.keys() if k.startswith(\"mesthres\")]\n",
    "mesthres_vals = np.array([k[-4:].replace(\"p\", \".\") for k in mesthres_cols],\n",
    "                         dtype=float)\n",
    "\n",
    "def pdet_combined(catalog):\n",
    "    return pcomp_vectors(catalog, catalog['koi_period'].values, \n",
    "                         catalog['koi_prad'].values, catalog['koi_eccen'].values)\n",
    "\n",
    "def pdet_vectors(stars, periods, rp, eccs):\n",
    "    '''\n",
    "    Self-contained, returns pcomp over matched arrays of planets around stars.\n",
    "    '''\n",
    "    cdpp_cols = [k for k in stellar.keys() if k.startswith(\"rrmscdpp\")]\n",
    "    cdpp_vals = np.array([k[-4:].replace(\"p\", \".\") for k in cdpp_cols], dtype=float)\n",
    "    pgam = gamma(4.65, loc=0., scale=0.98)\n",
    "    mesthres_cols = [k for k in stellar.keys() if k.startswith(\"mesthres\")]\n",
    "    mesthres_vals = np.array([k[-4:].replace(\"p\", \".\") for k in mesthres_cols],\n",
    "                            dtype=float)\n",
    "    mstars = stars['mass'].values\n",
    "    rstars = stars['radius'].values\n",
    "    cdpp = stars[cdpp_cols].values\n",
    "    dataspan = stars['dataspan'].values\n",
    "    dutycycle = stars['dutycycle'].values\n",
    "    mesthres_cols_stars = stars[mesthres_cols].values\n",
    "\n",
    "    return pcomp_star_vectors(mstars, rstars, cdpp, dataspan, dutycycle, mesthres_cols_stars, periods, rp, eccs)\n",
    "\n",
    "def pdet_star_vectors(mstars, rstars, cdpp, dataspan, dutycycle, mesthres_cols_stars, periods, rp, eccs):\n",
    "    c = 1.0874\n",
    "    s = 1.0187\n",
    "    Go4pi = 2945.4625385377644/(4*np.pi*np.pi)\n",
    "    re = 0.009171\n",
    "    aor = (Go4pi*periods*periods*mstars) ** (1./3) / rstars\n",
    "    tau = 6 * periods * np.sqrt(1 - eccs**2) / aor\n",
    "\n",
    "    # sigma = np.apply_along_axis(np.interp, 0, tau, cdpp_vals, cdpp)\n",
    "    sigma = np.array([np.interp(tau[i], cdpp_vals, cdpp[i]) for i in range(len(tau))])\n",
    "    # Compute the radius ratio and estimate the S/N.\n",
    "    k = rp * re / rstars\n",
    "    delta = 0.84 * k*k * (c + s*k)\n",
    "    snr = delta * 1e6 / sigma\n",
    "\n",
    "    # Scale by the estimated number of transits.\n",
    "    ntrn = dataspan * dutycycle / periods\n",
    "    mess = snr * np.sqrt(ntrn)\n",
    "    mest = np.array([np.interp(tau[i], mesthres_vals, mesthres_cols_stars[i]) for i in range(len(tau))])\n",
    "    x = mess - 4.1 - (mest - 7.1)\n",
    "    pdets = pgam.cdf(x)\n",
    "    \n",
    "    return pdets"
   ]
  },
  {
   "cell_type": "code",
   "execution_count": null,
   "metadata": {},
   "outputs": [],
   "source": [
    "planetary_params = np.vstack((planetary.koi_period.values, \n",
    "                              planetary.koi_prad.values, planetary.koi_eccen.values)).T"
   ]
  },
  {
   "cell_type": "code",
   "execution_count": null,
   "metadata": {},
   "outputs": [],
   "source": [
    "if not path.exists('../data/idem_pdets.npy'):\n",
    "    pdet_ij = np.empty((len(planetary), len(stellar)))\n",
    "    for i, params in enumerate(tqdm(planetary_params, total=len(planetary))):\n",
    "        pdet_ij[i] = pcomp_vectors(stellar, *params)\n",
    "    np.save('../data/idem_pdets.npy', pdet_ij)\n",
    "else:\n",
    "    pdet_ij = np.load('../data/idem_pdets.npy')"
   ]
  },
  {
   "cell_type": "code",
   "execution_count": null,
   "metadata": {},
   "outputs": [],
   "source": [
    "pdet_i = np.nanmean(pdet_ij, axis=1)"
   ]
  },
  {
   "cell_type": "code",
   "execution_count": null,
   "metadata": {},
   "outputs": [],
   "source": [
    "np.save('../data/idem_pdets_i.npy', pdet_i)"
   ]
  },
  {
   "cell_type": "code",
   "execution_count": null,
   "metadata": {},
   "outputs": [],
   "source": [
    "plt.hist(pdet_i)"
   ]
  },
  {
   "cell_type": "code",
   "execution_count": null,
   "metadata": {},
   "outputs": [],
   "source": [
    "weights = np.nan_to_num(1 / (pdet_i * pgeoms))"
   ]
  },
  {
   "cell_type": "code",
   "execution_count": null,
   "metadata": {},
   "outputs": [],
   "source": [
    "period_bins = np.array([0.5, 1.25, 2.5, 5, 10, 20, 40, 80, 160, 320])\n",
    "rp_bins = np.array([0.5, 0.75, 1, 1.25, 1.5, 1.75, 2, 2.5, 3, 4, 6, 8, 12, 16])\n",
    "counts = np.histogram2d(periods, prads, bins=[period_bins, rp_bins])[0]\n",
    "N = np.histogram2d(periods, prads, bins=[period_bins, rp_bins], weights=weights)\n",
    "f = N[0] / len(stellar)"
   ]
  },
  {
   "cell_type": "code",
   "execution_count": null,
   "metadata": {},
   "outputs": [],
   "source": [
    "plt.imshow(f)\n",
    "plt.colorbar()\n",
    "_ = plt.xticks(list(range(len(rp_bins))), rp_bins)\n",
    "plt.xlabel(r\"Radius ($R_E$)\")\n",
    "_ = plt.yticks(list(range(len(period_bins))), period_bins)\n",
    "plt.ylabel(\"Period (days)\")"
   ]
  },
  {
   "cell_type": "code",
   "execution_count": null,
   "metadata": {},
   "outputs": [],
   "source": [
    "sigmas = np.divide(f, np.sqrt(counts), out=np.zeros_like(f), where=counts!=0)"
   ]
  },
  {
   "cell_type": "code",
   "execution_count": null,
   "metadata": {},
   "outputs": [],
   "source": [
    "plt.imshow(sigmas)\n",
    "plt.colorbar()"
   ]
  }
 ],
 "metadata": {
  "kernelspec": {
   "display_name": "Python 3",
   "language": "python",
   "name": "python3"
  },
  "language_info": {
   "codemirror_mode": {
    "name": "ipython",
    "version": 3
   },
   "file_extension": ".py",
   "mimetype": "text/x-python",
   "name": "python",
   "nbconvert_exporter": "python",
   "pygments_lexer": "ipython3",
   "version": "3.7.7"
  }
 },
 "nbformat": 4,
 "nbformat_minor": 2
}
