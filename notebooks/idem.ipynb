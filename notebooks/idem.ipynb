{
 "cells": [
  {
   "cell_type": "markdown",
   "metadata": {},
   "source": [
    "# Aim\n",
    "\n",
    "Get used to loading Kepler data, and try IDEM.\n",
    "\n",
    "IDEM as in Appendix A of Hsu 2018 (https://arxiv.org/pdf/1803.10787.pdf)."
   ]
  },
  {
   "cell_type": "code",
   "execution_count": 2,
   "metadata": {},
   "outputs": [],
   "source": [
    "import pandas as pd\n",
    "from matplotlib import pyplot as plt\n",
    "import numpy as np\n",
    "import sys\n",
    "sys.path.append('..')\n",
    "from tqdm.notebook import tqdm\n",
    "from os import path\n",
    "\n",
    "%load_ext autoreload\n",
    "%autoreload 2"
   ]
  },
  {
   "cell_type": "code",
   "execution_count": 3,
   "metadata": {},
   "outputs": [
    {
     "ename": "FileNotFoundError",
     "evalue": "File ../data/q1_q16_stellar.h5 does not exist",
     "output_type": "error",
     "traceback": [
      "\u001b[0;31m---------------------------------------------------------------------------\u001b[0m",
      "\u001b[0;31mFileNotFoundError\u001b[0m                         Traceback (most recent call last)",
      "\u001b[0;32m<ipython-input-3-a9656951cce8>\u001b[0m in \u001b[0;36m<module>\u001b[0;34m\u001b[0m\n\u001b[0;32m----> 1\u001b[0;31m \u001b[0mstellar\u001b[0m \u001b[0;34m=\u001b[0m \u001b[0mpd\u001b[0m\u001b[0;34m.\u001b[0m\u001b[0mread_hdf\u001b[0m\u001b[0;34m(\u001b[0m\u001b[0;34m'../data/q1_q16_stellar.h5'\u001b[0m\u001b[0;34m)\u001b[0m\u001b[0;34m\u001b[0m\u001b[0;34m\u001b[0m\u001b[0m\n\u001b[0m",
      "\u001b[0;32m/usr/local/lib/python3.7/site-packages/pandas/io/pytables.py\u001b[0m in \u001b[0;36mread_hdf\u001b[0;34m(path_or_buf, key, mode, errors, where, start, stop, columns, iterator, chunksize, **kwargs)\u001b[0m\n\u001b[1;32m    393\u001b[0m \u001b[0;34m\u001b[0m\u001b[0m\n\u001b[1;32m    394\u001b[0m         \u001b[0;32mif\u001b[0m \u001b[0;32mnot\u001b[0m \u001b[0mexists\u001b[0m\u001b[0;34m:\u001b[0m\u001b[0;34m\u001b[0m\u001b[0;34m\u001b[0m\u001b[0m\n\u001b[0;32m--> 395\u001b[0;31m             \u001b[0;32mraise\u001b[0m \u001b[0mFileNotFoundError\u001b[0m\u001b[0;34m(\u001b[0m\u001b[0;34mf\"File {path_or_buf} does not exist\"\u001b[0m\u001b[0;34m)\u001b[0m\u001b[0;34m\u001b[0m\u001b[0;34m\u001b[0m\u001b[0m\n\u001b[0m\u001b[1;32m    396\u001b[0m \u001b[0;34m\u001b[0m\u001b[0m\n\u001b[1;32m    397\u001b[0m         \u001b[0mstore\u001b[0m \u001b[0;34m=\u001b[0m \u001b[0mHDFStore\u001b[0m\u001b[0;34m(\u001b[0m\u001b[0mpath_or_buf\u001b[0m\u001b[0;34m,\u001b[0m \u001b[0mmode\u001b[0m\u001b[0;34m=\u001b[0m\u001b[0mmode\u001b[0m\u001b[0;34m,\u001b[0m \u001b[0merrors\u001b[0m\u001b[0;34m=\u001b[0m\u001b[0merrors\u001b[0m\u001b[0;34m,\u001b[0m \u001b[0;34m**\u001b[0m\u001b[0mkwargs\u001b[0m\u001b[0;34m)\u001b[0m\u001b[0;34m\u001b[0m\u001b[0;34m\u001b[0m\u001b[0m\n",
      "\u001b[0;31mFileNotFoundError\u001b[0m: File ../data/q1_q16_stellar.h5 does not exist"
     ]
    }
   ],
   "source": [
    "stellar = pd.read_hdf('../data/q1_q16_stellar.h5')"
   ]
  },
  {
   "cell_type": "code",
   "execution_count": 3,
   "metadata": {},
   "outputs": [
    {
     "data": {
      "text/plain": [
       "Index(['kepid', 'tm_designation', 'teff', 'teff_err1', 'teff_err2', 'logg',\n",
       "       'logg_err1', 'logg_err2', 'feh', 'feh_err1', 'feh_err2', 'mass',\n",
       "       'mass_err1', 'mass_err2', 'radius', 'radius_err1', 'radius_err2',\n",
       "       'dens', 'dens_err1', 'dens_err2', 'prov_sec', 'kepmag',\n",
       "       'limbdark_coeff1', 'limbdark_coeff2', 'limbdark_coeff3',\n",
       "       'limbdark_coeff4', 'dist', 'dist_err1', 'dist_err2', 'nconfp', 'nkoi',\n",
       "       'ntce', 'datalink_dvr', 'st_delivname', 'st_vet_date_str', 'ra', 'dec',\n",
       "       'st_quarters', 'teff_prov', 'logg_prov', 'feh_prov', 'jmag', 'jmag_err',\n",
       "       'hmag', 'hmag_err', 'kmag', 'kmag_err', 'dutycycle', 'dataspan',\n",
       "       'mesthres01p5', 'mesthres02p0', 'mesthres02p5', 'mesthres03p0',\n",
       "       'mesthres03p5', 'mesthres04p5', 'mesthres05p0', 'mesthres06p0',\n",
       "       'mesthres07p5', 'mesthres09p0', 'mesthres10p5', 'mesthres12p0',\n",
       "       'mesthres12p5', 'mesthres15p0', 'rrmscdpp01p5', 'rrmscdpp02p0',\n",
       "       'rrmscdpp02p5', 'rrmscdpp03p0', 'rrmscdpp03p5', 'rrmscdpp04p5',\n",
       "       'rrmscdpp05p0', 'rrmscdpp06p0', 'rrmscdpp07p5', 'rrmscdpp09p0',\n",
       "       'rrmscdpp10p5', 'rrmscdpp12p0', 'rrmscdpp12p5', 'rrmscdpp15p0', 'av',\n",
       "       'av_err1', 'av_err2', 'dutycycle_post', 'dataspan_post', 'timeout01p5',\n",
       "       'timeout02p0', 'timeout02p5', 'timeout03p0', 'timeout03p5',\n",
       "       'timeout04p5', 'timeout05p0', 'timeout06p0', 'timeout07p5',\n",
       "       'timeout09p0', 'timeout10p5', 'timeout12p0', 'timeout12p5',\n",
       "       'timeout15p0', 'timeoutsumry', 'cdppslplong', 'cdppslpshrt'],\n",
       "      dtype='object')"
      ]
     },
     "execution_count": 3,
     "metadata": {},
     "output_type": "execute_result"
    }
   ],
   "source": [
    "stellar.keys()"
   ]
  },
  {
   "cell_type": "code",
   "execution_count": 3,
   "metadata": {},
   "outputs": [],
   "source": [
    "planetary = pd.read_hdf('../data/q1_q16_koi.h5')"
   ]
  },
  {
   "cell_type": "code",
   "execution_count": 4,
   "metadata": {},
   "outputs": [],
   "source": [
    "planetary = planetary[np.isfinite(planetary['koi_prad'])]"
   ]
  },
  {
   "cell_type": "code",
   "execution_count": 5,
   "metadata": {},
   "outputs": [
    {
     "data": {
      "text/plain": [
       "(array([  1.,   0.,   0.,   0.,   1.,   1.,   4.,   6.,   8.,  23.,  51.,\n",
       "        101., 136., 233., 297., 378., 485., 495., 515., 511., 478., 450.,\n",
       "        344., 219., 128., 113., 107.,  86.,  63.,  85.,  55.,  66.,  69.,\n",
       "         63.,  70.,  55.,  61.,  71.,  89.,  84., 108.,  99., 108., 102.,\n",
       "         95.,  91.,  56.,  58.,  40.,  39.,  18.,  23.,  22.,  13.,  20.,\n",
       "         10.,  15.,   9.,   8.,   5.,   5.,   9.,   5.,   2.,   7.,   5.,\n",
       "          4.,   2.,   1.,   6.,   5.,   5.,   2.,   5.,   5.,   1.,   5.,\n",
       "          7.,   3.,   6.,   7.,   6.,   3.,   4.,   1.,   3.,   0.,   1.,\n",
       "          2.,   0.,   2.,   1.,   0.,   1.,   1.,   0.,   0.,   0.,   0.,\n",
       "          1.]),\n",
       " array([-1.96611286, -1.8304551 , -1.69479735, -1.55913959, -1.42348184,\n",
       "        -1.28782408, -1.15216633, -1.01650857, -0.88085082, -0.74519306,\n",
       "        -0.60953531, -0.47387755, -0.3382198 , -0.20256204, -0.06690429,\n",
       "         0.06875347,  0.20441122,  0.34006898,  0.47572673,  0.61138449,\n",
       "         0.74704224,  0.8827    ,  1.01835775,  1.15401551,  1.28967326,\n",
       "         1.42533102,  1.56098877,  1.69664653,  1.83230428,  1.96796204,\n",
       "         2.10361979,  2.23927755,  2.3749353 ,  2.51059306,  2.64625081,\n",
       "         2.78190857,  2.91756632,  3.05322408,  3.18888183,  3.32453959,\n",
       "         3.46019734,  3.5958551 ,  3.73151285,  3.86717061,  4.00282836,\n",
       "         4.13848612,  4.27414387,  4.40980163,  4.54545938,  4.68111714,\n",
       "         4.81677489,  4.95243265,  5.0880904 ,  5.22374816,  5.35940591,\n",
       "         5.49506367,  5.63072142,  5.76637918,  5.90203693,  6.03769469,\n",
       "         6.17335244,  6.3090102 ,  6.44466795,  6.5803257 ,  6.71598346,\n",
       "         6.85164121,  6.98729897,  7.12295672,  7.25861448,  7.39427223,\n",
       "         7.52992999,  7.66558774,  7.8012455 ,  7.93690325,  8.07256101,\n",
       "         8.20821876,  8.34387652,  8.47953427,  8.61519203,  8.75084978,\n",
       "         8.88650754,  9.02216529,  9.15782305,  9.2934808 ,  9.42913856,\n",
       "         9.56479631,  9.70045407,  9.83611182,  9.97176958, 10.10742733,\n",
       "        10.24308509, 10.37874284, 10.5144006 , 10.65005835, 10.78571611,\n",
       "        10.92137386, 11.05703162, 11.19268937, 11.32834713, 11.46400488,\n",
       "        11.59966264]),\n",
       " <a list of 100 Patch objects>)"
      ]
     },
     "execution_count": 5,
     "metadata": {},
     "output_type": "execute_result"
    },
    {
     "data": {
      "image/png": "[encoded data removed]",
      "text/plain": [
       "<Figure size 432x288 with 1 Axes>"
      ]
     },
     "metadata": {
      "needs_background": "light"
     },
     "output_type": "display_data"
    }
   ],
   "source": [
    "# let's group all these planets into buckets based on planet size and orbital period!\n",
    "radii = np.array(planetary['koi_prad'])\n",
    "plt.hist(np.log(radii), bins=100)"
   ]
  },
  {
   "cell_type": "code",
   "execution_count": 6,
   "metadata": {},
   "outputs": [
    {
     "data": {
      "text/plain": [
       "(array([  1.,   5.,   5.,   8.,  10.,  47.,  81.,  80.,  98.,  88., 153.,\n",
       "         98., 146.,  85., 124., 119., 144., 140., 147., 176., 184., 200.,\n",
       "        199., 209., 228., 218., 212., 186., 225., 237., 209., 216., 186.,\n",
       "        193., 164., 154., 147., 125., 129., 129.,  96., 108.,  79.,  77.,\n",
       "         93.,  72.,  79.,  75.,  66.,  69.,  80.,  77.,  53.,  78.,  52.,\n",
       "        162.,  81.,  58.,  54.,  33.,   5.,   2.,   1.,   3.,   0.,   1.,\n",
       "          2.,   1.,   0.,   1.,   0.,   0.,   0.,   0.,   0.,   0.,   0.,\n",
       "          0.,   0.,   0.,   0.,   0.,   0.,   0.,   0.,   0.,   0.,   0.,\n",
       "          0.,   0.,   0.,   0.,   0.,   0.,   0.,   0.,   0.,   0.,   0.,\n",
       "          1.]),\n",
       " array([-1.41946841, -1.28752115, -1.1555739 , -1.02362664, -0.89167938,\n",
       "        -0.75973213, -0.62778487, -0.49583761, -0.36389036, -0.2319431 ,\n",
       "        -0.09999584,  0.03195141,  0.16389867,  0.29584593,  0.42779318,\n",
       "         0.55974044,  0.6916877 ,  0.82363495,  0.95558221,  1.08752947,\n",
       "         1.21947672,  1.35142398,  1.48337124,  1.61531849,  1.74726575,\n",
       "         1.87921301,  2.01116026,  2.14310752,  2.27505478,  2.40700203,\n",
       "         2.53894929,  2.67089655,  2.8028438 ,  2.93479106,  3.06673832,\n",
       "         3.19868557,  3.33063283,  3.46258009,  3.59452734,  3.7264746 ,\n",
       "         3.85842186,  3.99036911,  4.12231637,  4.25426363,  4.38621088,\n",
       "         4.51815814,  4.6501054 ,  4.78205265,  4.91399991,  5.04594717,\n",
       "         5.17789442,  5.30984168,  5.44178894,  5.57373619,  5.70568345,\n",
       "         5.83763071,  5.96957796,  6.10152522,  6.23347248,  6.36541973,\n",
       "         6.49736699,  6.62931425,  6.7612615 ,  6.89320876,  7.02515602,\n",
       "         7.15710327,  7.28905053,  7.42099779,  7.55294504,  7.6848923 ,\n",
       "         7.81683956,  7.94878681,  8.08073407,  8.21268133,  8.34462858,\n",
       "         8.47657584,  8.6085231 ,  8.74047035,  8.87241761,  9.00436487,\n",
       "         9.13631212,  9.26825938,  9.40020664,  9.53215389,  9.66410115,\n",
       "         9.79604841,  9.92799566, 10.05994292, 10.19189018, 10.32383743,\n",
       "        10.45578469, 10.58773195, 10.7196792 , 10.85162646, 10.98357372,\n",
       "        11.11552097, 11.24746823, 11.37941549, 11.51136274, 11.64331   ,\n",
       "        11.77525726]),\n",
       " <a list of 100 Patch objects>)"
      ]
     },
     "execution_count": 6,
     "metadata": {},
     "output_type": "execute_result"
    },
    {
     "data": {
      "image/png": "[encoded data removed]",
      "text/plain": [
       "<Figure size 432x288 with 1 Axes>"
      ]
     },
     "metadata": {
      "needs_background": "light"
     },
     "output_type": "display_data"
    }
   ],
   "source": [
    "periods = np.array(planetary['koi_period'])\n",
    "plt.hist(np.log(periods), bins=100)"
   ]
  },
  {
   "cell_type": "code",
   "execution_count": 7,
   "metadata": {},
   "outputs": [
    {
     "data": {
      "text/plain": [
       "Text(0, 0.5, 'Log-radius (ln Earth radii)')"
      ]
     },
     "execution_count": 7,
     "metadata": {},
     "output_type": "execute_result"
    },
    {
     "data": {
      "image/png": "[encoded data removed]",
      "text/plain": [
       "<Figure size 432x288 with 1 Axes>"
      ]
     },
     "metadata": {
      "needs_background": "light"
     },
     "output_type": "display_data"
    }
   ],
   "source": [
    "plt.plot(np.log(periods), np.log(radii), \".k\")\n",
    "plt.xlabel(\"Log-period (ln days)\")\n",
    "plt.ylabel(\"Log-radius (ln Earth radii)\")"
   ]
  },
  {
   "cell_type": "code",
   "execution_count": 8,
   "metadata": {},
   "outputs": [],
   "source": [
    "planetary = planetary[planetary['koi_disposition'] != \"FALSE POSITIVE\"]\n",
    "combined = pd.merge(planetary, stellar, on=\"kepid\")\n",
    "rstars = combined['radius'].values \n",
    "mstars = combined['mass'].values\n",
    "periods = combined['koi_period'].values\n",
    "prads = combined['koi_prad'].values\n",
    "eccs = combined['koi_eccen'].values"
   ]
  },
  {
   "cell_type": "code",
   "execution_count": 9,
   "metadata": {},
   "outputs": [],
   "source": [
    "pgeoms = rstars / get_a(periods, mstars)"
   ]
  },
  {
   "cell_type": "code",
   "execution_count": 10,
   "metadata": {},
   "outputs": [
    {
     "name": "stderr",
     "output_type": "stream",
     "text": [
      "/Users/adityasengupta/Library/Python/3.7/lib/python/site-packages/ipykernel_launcher.py:1: RuntimeWarning: invalid value encountered in less_equal\n",
      "  \"\"\"Entry point for launching an IPython kernel.\n"
     ]
    },
    {
     "data": {
      "text/plain": [
       "5531"
      ]
     },
     "execution_count": 10,
     "metadata": {},
     "output_type": "execute_result"
    },
    {
     "data": {
      "image/png": "[encoded data removed]",
      "text/plain": [
       "<Figure size 432x288 with 1 Axes>"
      ]
     },
     "metadata": {
      "needs_background": "light"
     },
     "output_type": "display_data"
    }
   ],
   "source": [
    "int(sum(plt.hist(pgeoms[(np.isfinite(pgeoms)) & (pgeoms <= 1.0)])[0]))"
   ]
  },
  {
   "cell_type": "code",
   "execution_count": 11,
   "metadata": {},
   "outputs": [],
   "source": [
    "# these things should be an import from completeness.py\n",
    "# except that this only uses pdet and not pwin\n",
    "\n",
    "cdpp_cols = [k for k in stellar.keys() if k.startswith(\"rrmscdpp\")]\n",
    "cdpp_vals = np.array([k[-4:].replace(\"p\", \".\") for k in cdpp_cols], dtype=float)\n",
    "pgam = gamma(4.65, loc=0., scale=0.98)\n",
    "mesthres_cols = [k for k in stellar.keys() if k.startswith(\"mesthres\")]\n",
    "mesthres_vals = np.array([k[-4:].replace(\"p\", \".\") for k in mesthres_cols],\n",
    "                         dtype=float)\n",
    "\n",
    "def pdet_combined(catalog):\n",
    "    return pcomp_vectors(catalog, catalog['koi_period'].values, \n",
    "                         catalog['koi_prad'].values, catalog['koi_eccen'].values)\n",
    "\n",
    "def pdet_vectors(stars, periods, rp, eccs):\n",
    "    '''\n",
    "    Self-contained, returns pcomp over matched arrays of planets around stars.\n",
    "    '''\n",
    "    cdpp_cols = [k for k in stellar.keys() if k.startswith(\"rrmscdpp\")]\n",
    "    cdpp_vals = np.array([k[-4:].replace(\"p\", \".\") for k in cdpp_cols], dtype=float)\n",
    "    pgam = gamma(4.65, loc=0., scale=0.98)\n",
    "    mesthres_cols = [k for k in stellar.keys() if k.startswith(\"mesthres\")]\n",
    "    mesthres_vals = np.array([k[-4:].replace(\"p\", \".\") for k in mesthres_cols],\n",
    "                            dtype=float)\n",
    "    mstars = stars['mass'].values\n",
    "    rstars = stars['radius'].values\n",
    "    cdpp = stars[cdpp_cols].values\n",
    "    dataspan = stars['dataspan'].values\n",
    "    dutycycle = stars['dutycycle'].values\n",
    "    mesthres_cols_stars = stars[mesthres_cols].values\n",
    "\n",
    "    return pcomp_star_vectors(mstars, rstars, cdpp, dataspan, dutycycle, mesthres_cols_stars, periods, rp, eccs)\n",
    "\n",
    "def pdet_star_vectors(mstars, rstars, cdpp, dataspan, dutycycle, mesthres_cols_stars, periods, rp, eccs):\n",
    "    c = 1.0874\n",
    "    s = 1.0187\n",
    "    Go4pi = 2945.4625385377644/(4*np.pi*np.pi)\n",
    "    re = 0.009171\n",
    "    aor = (Go4pi*periods*periods*mstars) ** (1./3) / rstars\n",
    "    tau = 6 * periods * np.sqrt(1 - eccs**2) / aor\n",
    "\n",
    "    # sigma = np.apply_along_axis(np.interp, 0, tau, cdpp_vals, cdpp)\n",
    "    sigma = np.array([np.interp(tau[i], cdpp_vals, cdpp[i]) for i in range(len(tau))])\n",
    "    # Compute the radius ratio and estimate the S/N.\n",
    "    k = rp * re / rstars\n",
    "    delta = 0.84 * k*k * (c + s*k)\n",
    "    snr = delta * 1e6 / sigma\n",
    "\n",
    "    # Scale by the estimated number of transits.\n",
    "    ntrn = dataspan * dutycycle / periods\n",
    "    mess = snr * np.sqrt(ntrn)\n",
    "    mest = np.array([np.interp(tau[i], mesthres_vals, mesthres_cols_stars[i]) for i in range(len(tau))])\n",
    "    x = mess - 4.1 - (mest - 7.1)\n",
    "    pdets = pgam.cdf(x)\n",
    "    \n",
    "    return pdets"
   ]
  },
  {
   "cell_type": "code",
   "execution_count": 12,
   "metadata": {},
   "outputs": [],
   "source": [
    "planetary_params = np.vstack((planetary.koi_period.values, \n",
    "                              planetary.koi_prad.values, planetary.koi_eccen.values)).T"
   ]
  },
  {
   "cell_type": "code",
   "execution_count": 13,
   "metadata": {},
   "outputs": [],
   "source": [
    "if not path.exists('../data/idem_pdets.npy'):\n",
    "    pdet_ij = np.empty((len(planetary), len(stellar)))\n",
    "    for i, params in enumerate(tqdm(planetary_params, total=len(planetary))):\n",
    "        pdet_ij[i] = pcomp_vectors(stellar, *params)\n",
    "    np.save('../data/idem_pdets.npy', pdet_ij)\n",
    "else:\n",
    "    pdet_ij = np.load('../data/idem_pdets.npy')"
   ]
  },
  {
   "cell_type": "code",
   "execution_count": 14,
   "metadata": {},
   "outputs": [],
   "source": [
    "pdet_i = np.nanmean(pdet_ij, axis=1)"
   ]
  },
  {
   "cell_type": "code",
   "execution_count": 16,
   "metadata": {},
   "outputs": [],
   "source": [
    "np.save('../data/idem_pdets_i.npy', pdet_i)"
   ]
  },
  {
   "cell_type": "code",
   "execution_count": 18,
   "metadata": {},
   "outputs": [
    {
     "data": {
      "text/plain": [
       "(array([ 222.,  206.,  221.,  274.,  262.,  358.,  530., 1030., 1305.,\n",
       "        1221.]),\n",
       " array([2.57040650e-04, 1.00231337e-01, 2.00205633e-01, 3.00179928e-01,\n",
       "        4.00154224e-01, 5.00128520e-01, 6.00102816e-01, 7.00077112e-01,\n",
       "        8.00051408e-01, 9.00025704e-01, 1.00000000e+00]),\n",
       " <a list of 10 Patch objects>)"
      ]
     },
     "execution_count": 18,
     "metadata": {},
     "output_type": "execute_result"
    },
    {
     "data": {
      "image/png": "[encoded data removed]",
      "text/plain": [
       "<Figure size 432x288 with 1 Axes>"
      ]
     },
     "metadata": {
      "needs_background": "light"
     },
     "output_type": "display_data"
    }
   ],
   "source": [
    "plt.hist(pdet_i)"
   ]
  },
  {
   "cell_type": "code",
   "execution_count": 36,
   "metadata": {},
   "outputs": [],
   "source": [
    "weights = np.nan_to_num(1 / (pdet_i * pgeoms))"
   ]
  },
  {
   "cell_type": "code",
   "execution_count": 53,
   "metadata": {},
   "outputs": [],
   "source": [
    "period_bins = np.array([0.5, 1.25, 2.5, 5, 10, 20, 40, 80, 160, 320])\n",
    "rp_bins = np.array([0.5, 0.75, 1, 1.25, 1.5, 1.75, 2, 2.5, 3, 4, 6, 8, 12, 16])\n",
    "counts = np.histogram2d(periods, prads, bins=[period_bins, rp_bins])[0]\n",
    "N = np.histogram2d(periods, prads, bins=[period_bins, rp_bins], weights=weights)\n",
    "f = N[0] / len(stellar)"
   ]
  },
  {
   "cell_type": "code",
   "execution_count": 54,
   "metadata": {},
   "outputs": [
    {
     "data": {
      "text/plain": [
       "Text(0, 0.5, 'Period (days)')"
      ]
     },
     "execution_count": 54,
     "metadata": {},
     "output_type": "execute_result"
    },
    {
     "data": {
      "image/png": "[encoded data removed]",
      "text/plain": [
       "<Figure size 432x288 with 2 Axes>"
      ]
     },
     "metadata": {
      "needs_background": "light"
     },
     "output_type": "display_data"
    }
   ],
   "source": [
    "plt.imshow(f)\n",
    "plt.colorbar()\n",
    "_ = plt.xticks(list(range(len(rp_bins))), rp_bins)\n",
    "plt.xlabel(r\"Radius ($R_E$)\")\n",
    "_ = plt.yticks(list(range(len(period_bins))), period_bins)\n",
    "plt.ylabel(\"Period (days)\")"
   ]
  },
  {
   "cell_type": "code",
   "execution_count": 56,
   "metadata": {},
   "outputs": [],
   "source": [
    "sigmas = np.divide(f, np.sqrt(counts), out=np.zeros_like(f), where=counts!=0)"
   ]
  },
  {
   "cell_type": "code",
   "execution_count": 59,
   "metadata": {},
   "outputs": [
    {
     "data": {
      "text/plain": [
       "<matplotlib.colorbar.Colorbar at 0x13f9c5c90>"
      ]
     },
     "execution_count": 59,
     "metadata": {},
     "output_type": "execute_result"
    },
    {
     "data": {
      "image/png": "[encoded data removed]",
      "text/plain": [
       "<Figure size 432x288 with 2 Axes>"
      ]
     },
     "metadata": {
      "needs_background": "light"
     },
     "output_type": "display_data"
    }
   ],
   "source": [
    "plt.imshow(sigmas)\n",
    "plt.colorbar()"
   ]
  }
 ],
 "metadata": {
  "kernelspec": {
   "display_name": "Python 3",
   "language": "python",
   "name": "python3"
  },
  "language_info": {
   "codemirror_mode": {
    "name": "ipython",
    "version": 3
   },
   "file_extension": ".py",
   "mimetype": "text/x-python",
   "name": "python",
   "nbconvert_exporter": "python",
   "pygments_lexer": "ipython3",
   "version": "3.7.7"
  }
 },
 "nbformat": 4,
 "nbformat_minor": 2
}
