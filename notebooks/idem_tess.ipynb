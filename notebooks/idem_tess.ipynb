{
 "cells": [
  {
   "cell_type": "markdown",
   "metadata": {},
   "source": [
    "# Aim\n",
    "\n",
    "Inverse detection efficiency completeness calculation on TESS data. Currently only uses geometric probabilities.\n",
    "\n",
    "IDEM as in Appendix A of Hsu 2018 (https://arxiv.org/pdf/1803.10787.pdf)."
   ]
  },
  {
   "cell_type": "code",
   "execution_count": 2,
   "metadata": {},
   "outputs": [],
   "source": [
    "import pandas as pd\n",
    "from matplotlib import pyplot as plt\n",
    "import numpy as np\n",
    "import sys\n",
    "sys.path.append('..')\n",
    "from tqdm.notebook import tqdm\n",
    "from os import path\n",
    "from dev import utils\n",
    "\n",
    "%load_ext autoreload\n",
    "%autoreload 2"
   ]
  },
  {
   "cell_type": "code",
   "execution_count": 3,
   "metadata": {},
   "outputs": [
    {
     "name": "stdout",
     "output_type": "stream",
     "text": [
      "Initial number of targets: 244730\n",
      "Cut to 189744 targets\n"
     ]
    }
   ],
   "source": [
    "stellar = utils.get_tess_stellar().drop_duplicates(\"ID\")\n",
    "print(\"Initial number of targets: {}\".format(len(stellar)))\n",
    "stellar = stellar[np.isfinite(stellar['rad'])]\n",
    "stellar = stellar[np.isfinite(stellar['mass'])]\n",
    "print(\"Cut to {} targets\".format(len(stellar)))"
   ]
  },
  {
   "cell_type": "code",
   "execution_count": 4,
   "metadata": {},
   "outputs": [
    {
     "name": "stdout",
     "output_type": "stream",
     "text": [
      "Retrieving TOI table from https://tev.mit.edu/data/collection/193/csv/6/.\n",
      "Initial number of TOIs: 2173\n",
      "Cut to 250 TOIs\n"
     ]
    }
   ],
   "source": [
    "planetary = utils.get_tois(force_redownload=True)\n",
    "exclude_candidates = True\n",
    "print(\"Initial number of TOIs: {}\".format(len(planetary)))\n",
    "if exclude_candidates:\n",
    "    planetary = planetary[np.logical_or(planetary[\"toi_pdisposition\"] == \"KP\", planetary[\"toi_pdisposition\"] == \"CP\")]\n",
    "planetary = planetary[np.isfinite(planetary['toi_prad'])]\n",
    "planetary = planetary[np.isfinite(planetary['toi_period'])]\n",
    "print(\"Cut to {} TOIs\".format(len(planetary)))"
   ]
  },
  {
   "cell_type": "code",
   "execution_count": 5,
   "metadata": {},
   "outputs": [
    {
     "data": {
      "image/png": "[encoded data removed]",
      "text/plain": [
       "<Figure size 432x288 with 1 Axes>"
      ]
     },
     "metadata": {
      "needs_background": "light"
     },
     "output_type": "display_data"
    }
   ],
   "source": [
    "# let's group all these planets into buckets based on planet size and orbital period!\n",
    "radii = np.array(planetary['toi_prad'])\n",
    "_ = plt.hist(np.log(radii), bins=100)"
   ]
  },
  {
   "cell_type": "code",
   "execution_count": 6,
   "metadata": {},
   "outputs": [
    {
     "data": {
      "image/png": "[encoded data removed]",
      "text/plain": [
       "<Figure size 432x288 with 1 Axes>"
      ]
     },
     "metadata": {
      "needs_background": "light"
     },
     "output_type": "display_data"
    }
   ],
   "source": [
    "periods = np.array(planetary['toi_period'])\n",
    "_ = plt.hist(np.log(periods), bins=100)"
   ]
  },
  {
   "cell_type": "code",
   "execution_count": 7,
   "metadata": {},
   "outputs": [],
   "source": [
    "long_planets = planetary[planetary[\"toi_period\"] > 27.4]\n",
    "for planet in long_planets.iterrows():\n",
    "    planet = planet[1]\n",
    "    num_sectors = len(planet[\"sectors\"].split())\n",
    "    if planet[\"toi_period\"] > 27.4 * num_sectors:\n",
    "        print(\"TOI {0} has a period of {1} days and was observed in {2} sectors.\".format(planet[\"toi_id\"], planet[\"toi_period\"], num_sectors))\n",
    "        print(\"Public comment on this TOI: {}\".format(planet[\"comment\"]))"
   ]
  },
  {
   "cell_type": "markdown",
   "metadata": {},
   "source": [
    "exomast: plug in the name of the planet, get all the observations\n",
    "https://exo.mast.stsci.edu/"
   ]
  },
  {
   "cell_type": "code",
   "execution_count": 8,
   "metadata": {},
   "outputs": [
    {
     "data": {
      "text/plain": [
       "Text(0, 0.5, 'Log-radius (ln Earth radii)')"
      ]
     },
     "execution_count": 8,
     "metadata": {},
     "output_type": "execute_result"
    },
    {
     "data": {
      "image/png": "[encoded data removed]",
      "text/plain": [
       "<Figure size 432x288 with 1 Axes>"
      ]
     },
     "metadata": {
      "needs_background": "light"
     },
     "output_type": "display_data"
    }
   ],
   "source": [
    "plt.plot(np.log(periods), np.log(radii), \".k\")\n",
    "plt.xlabel(\"Log-period (ln days)\")\n",
    "plt.ylabel(\"Log-radius (ln Earth radii)\")"
   ]
  },
  {
   "cell_type": "code",
   "execution_count": 9,
   "metadata": {},
   "outputs": [
    {
     "data": {
      "text/plain": [
       "200"
      ]
     },
     "execution_count": 9,
     "metadata": {},
     "output_type": "execute_result"
    }
   ],
   "source": [
    "# planetary = planetary[planetary['TOI Disposition'] == \"PC\"]\n",
    "combined = pd.merge(planetary, stellar, left_on=\"TIC\", right_on=\"ID\")\n",
    "periods = combined['toi_period'].values\n",
    "prads = combined['toi_prad'].values\n",
    "len(combined)"
   ]
  },
  {
   "cell_type": "code",
   "execution_count": 10,
   "metadata": {},
   "outputs": [],
   "source": [
    "def get_a(period, mstar, Go4pi=2945.4625385377644/(4*np.pi*np.pi)):\n",
    "    # dfm.io/posts/exopop\n",
    "    \"\"\"\n",
    "    Compute the semi-major axis of an orbit in Solar radii.\n",
    "    \n",
    "    :param period: the period in days\n",
    "    :param mstar:  the stellar mass in Solar masses\n",
    "    \n",
    "    \"\"\"\n",
    "    return (Go4pi*period*period*mstar) ** (1./3)\n",
    "\n",
    "pgeoms = combined['rad'].values / get_a(periods, combined['mass'].values)"
   ]
  },
  {
   "cell_type": "code",
   "execution_count": 11,
   "metadata": {},
   "outputs": [
    {
     "data": {
      "image/png": "[encoded data removed]",
      "text/plain": [
       "<Figure size 432x288 with 1 Axes>"
      ]
     },
     "metadata": {
      "needs_background": "light"
     },
     "output_type": "display_data"
    }
   ],
   "source": [
    "_ = plt.hist(pgeoms)"
   ]
  },
  {
   "cell_type": "code",
   "execution_count": 27,
   "metadata": {},
   "outputs": [],
   "source": [
    "def pcomp(period, rstars=stellar['rad'].values, mstars=stellar['mass'].values):\n",
    "    '''\n",
    "    For each of the stars in the stellar catalog, computes the probability of detection \n",
    "    of the planet with the given period and radius \n",
    "    \n",
    "    Arguments\n",
    "    ---------\n",
    "    stellar : pd.DataFrame\n",
    "    The full stellar catalog, as extracted from the merge on MAST and the MIT TEV database.\n",
    "    \n",
    "    period : scalar\n",
    "    The period value for the TOI, in days.\n",
    "    \n",
    "    prad : scalar\n",
    "    The radius value for the TOI, in R_Earths.\n",
    "\n",
    "    Returns\n",
    "    -------\n",
    "    pcomps : np.ndarray\n",
    "    The probability of each of the detections.\n",
    "    '''\n",
    "    pgeoms = rstars / get_a(period, mstars)\n",
    "    return pgeoms"
   ]
  },
  {
   "cell_type": "code",
   "execution_count": 30,
   "metadata": {},
   "outputs": [],
   "source": [
    "ij_filename = '../data/idem_pdets_{}.npy'.format(exclude_candidates)\n",
    "if not path.exists(ij_filename):\n",
    "    pdet_ij = np.empty((len(periods), len(stellar)))\n",
    "    for i, period in enumerate(tqdm(periods, total=len(combined))):\n",
    "        pdet_ij[i] = pcomp(period)\n",
    "    np.save(ij_filename, pdet_ij)\n",
    "else:\n",
    "    pdet_ij = np.load(ij_filename)"
   ]
  },
  {
   "cell_type": "code",
   "execution_count": 31,
   "metadata": {},
   "outputs": [],
   "source": [
    "i_filename = '../data/idem_pdets_i.npy'.format(exclude_candidates)\n",
    "if not path.exists(i_filename):\n",
    "    pdet_i = np.nanmean(pdet_ij, axis=1)\n",
    "    np.save(i_filename, pdet_i)\n",
    "else:\n",
    "    pdet_i = np.load(i_filename)"
   ]
  },
  {
   "cell_type": "code",
   "execution_count": 32,
   "metadata": {},
   "outputs": [
    {
     "data": {
      "text/plain": [
       "(array([16., 16., 67., 49., 17., 10., 11.,  1.,  3.,  4.]),\n",
       " array([0.0307532 , 0.05968762, 0.08862205, 0.11755648, 0.14649091,\n",
       "        0.17542533, 0.20435976, 0.23329419, 0.26222862, 0.29116304,\n",
       "        0.32009747]),\n",
       " <a list of 10 Patch objects>)"
      ]
     },
     "execution_count": 32,
     "metadata": {},
     "output_type": "execute_result"
    },
    {
     "data": {
      "image/png": "[encoded data removed]",
      "text/plain": [
       "<Figure size 432x288 with 1 Axes>"
      ]
     },
     "metadata": {
      "needs_background": "light"
     },
     "output_type": "display_data"
    }
   ],
   "source": [
    "plt.hist(pdet_i)"
   ]
  },
  {
   "cell_type": "code",
   "execution_count": 12,
   "metadata": {},
   "outputs": [],
   "source": [
    "weights = np.nan_to_num(1 / pgeoms)"
   ]
  },
  {
   "cell_type": "code",
   "execution_count": 13,
   "metadata": {},
   "outputs": [],
   "source": [
    "period_bins = np.array([0.5, 1.25, 2.5, 5, 10, 20, 40, 80, 160, 320])\n",
    "rp_bins = np.array([0.5, 0.75, 1, 1.25, 1.5, 1.75, 2, 2.5, 3, 4, 6, 8, 12, 16])\n",
    "counts = np.histogram2d(periods, prads, bins=[period_bins, rp_bins])[0]\n",
    "N = np.histogram2d(periods, prads, bins=[period_bins, rp_bins], weights=weights)\n",
    "f = N[0] / len(stellar)"
   ]
  },
  {
   "cell_type": "code",
   "execution_count": 14,
   "metadata": {},
   "outputs": [
    {
     "data": {
      "text/plain": [
       "Text(0.5, 1.0, 'TESS completeness: exclude candidates = True')"
      ]
     },
     "execution_count": 14,
     "metadata": {},
     "output_type": "execute_result"
    },
    {
     "data": {
      "image/png": "[encoded data removed]",
      "text/plain": [
       "<Figure size 432x288 with 2 Axes>"
      ]
     },
     "metadata": {
      "needs_background": "light"
     },
     "output_type": "display_data"
    }
   ],
   "source": [
    "plt.imshow(f)\n",
    "plt.colorbar()\n",
    "_ = plt.xticks(list(range(len(rp_bins))), rp_bins)\n",
    "plt.xlabel(r\"Radius ($R_E$)\")\n",
    "_ = plt.yticks(list(range(len(period_bins))), period_bins)\n",
    "plt.ylabel(\"Period (days)\")\n",
    "plt.title(\"TESS completeness: exclude candidates = {}\".format(exclude_candidates))"
   ]
  },
  {
   "cell_type": "code",
   "execution_count": 15,
   "metadata": {},
   "outputs": [
    {
     "data": {
      "text/plain": [
       "<matplotlib.colorbar.Colorbar at 0x121455990>"
      ]
     },
     "execution_count": 15,
     "metadata": {},
     "output_type": "execute_result"
    },
    {
     "data": {
      "image/png": "[encoded data removed]",
      "text/plain": [
       "<Figure size 432x288 with 2 Axes>"
      ]
     },
     "metadata": {
      "needs_background": "light"
     },
     "output_type": "display_data"
    }
   ],
   "source": [
    "sigmas = np.divide(f, np.sqrt(counts), out=np.zeros_like(f), where=counts!=0)\n",
    "plt.imshow(sigmas)\n",
    "plt.colorbar()"
   ]
  },
  {
   "cell_type": "code",
   "execution_count": null,
   "metadata": {},
   "outputs": [],
   "source": []
  }
 ],
 "metadata": {
  "kernelspec": {
   "display_name": "Python 3",
   "language": "python",
   "name": "python3"
  },
  "language_info": {
   "codemirror_mode": {
    "name": "ipython",
    "version": 3
   },
   "file_extension": ".py",
   "mimetype": "text/x-python",
   "name": "python",
   "nbconvert_exporter": "python",
   "pygments_lexer": "ipython3",
   "version": "3.7.7"
  }
 },
 "nbformat": 4,
 "nbformat_minor": 2
}
