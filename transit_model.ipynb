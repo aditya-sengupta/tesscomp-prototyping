{
 "cells": [
  {
   "cell_type": "code",
   "execution_count": null,
   "metadata": {},
   "outputs": [],
   "source": [
    "import numpy as np\n",
    "from matplotlib import pyplot as plt"
   ]
  },
  {
   "cell_type": "code",
   "execution_count": null,
   "metadata": {},
   "outputs": [],
   "source": [
    "re = 0.009158\n",
    "Rp = 1\n",
    "Rs = 1\n",
    "p = Rp * re / Rs\n",
    "\n",
    "def flux(z):\n",
    "    if abs(z) > 1 + p:\n",
    "        return 1\n",
    "    elif abs(z) < 1 - p:\n",
    "        return 1 - p ** 2\n",
    "    k0 = np.arccos((p ** 2 + z ** 2 - 1) / (2 * p * z))\n",
    "    k1 = np.arccos((1 - p ** 2 + z ** 2) / (2 * z))\n",
    "    return 1 - ((p ** 2 * k0 + k1 - np.sqrt((4 * z ** 2 - (1 + z ** 2 - p ** 2) ** 2)/(4)))) / np.pi\n",
    "\n",
    "zvals = np.linspace(-1.1, 1.1, 1000)"
   ]
  },
  {
   "cell_type": "code",
   "execution_count": null,
   "metadata": {},
   "outputs": [],
   "source": [
    "limbdarks = np.array([0.93, -0.23, 0, 0])\n",
    "def i(r):\n",
    "    mu = np.sqrt(1 - r ** 2)\n",
    "    return 1 - sum(limbdarks * (1 - mu ** np.array([1, 2, 3, 4])))\n",
    "\n",
    "r = np.linspace(-1, 1, 100)\n",
    "i = np.vectorize(i)\n",
    "plt.plot(r, i(r))"
   ]
  },
  {
   "cell_type": "code",
   "execution_count": null,
   "metadata": {},
   "outputs": [],
   "source": [
    "def istar(z):\n",
    "    a = (z - p) ** 2\n",
    "    rvals = np.linspace(z - p, 1, 1000)\n",
    "    val = (1/(1-a)) * np.sum(i(rvals) * 2 * rvals * np.diff(rvals)[0])\n",
    "    return val"
   ]
  },
  {
   "cell_type": "code",
   "execution_count": null,
   "metadata": {},
   "outputs": [],
   "source": [
    "istar = np.vectorize(istar)\n",
    "plt.plot(zvals, np.nan_to_num(istar(zvals)))"
   ]
  },
  {
   "cell_type": "code",
   "execution_count": null,
   "metadata": {},
   "outputs": [],
   "source": [
    "Omega = sum(np.array([0, 0.93, -0.23, 0, 0]) / np.array([4, 5, 6, 7, 8]))\n",
    "def flux_smallplanet(z):\n",
    "    return 1 - istar(z) / (4 * Omega) * (p ** 2 * np.arccos((z - 1) / p) - (z - 1) * np.sqrt(p ** 2 - (z - 1)** 2))"
   ]
  },
  {
   "cell_type": "code",
   "execution_count": null,
   "metadata": {},
   "outputs": [],
   "source": [
    "a = np.nan_to_num(flux_smallplanet(zvals), nan=1)"
   ]
  },
  {
   "cell_type": "code",
   "execution_count": null,
   "metadata": {},
   "outputs": [],
   "source": [
    "plt.plot(zvals, a)"
   ]
  },
  {
   "cell_type": "code",
   "execution_count": null,
   "metadata": {},
   "outputs": [],
   "source": []
  }
 ],
 "metadata": {
  "kernelspec": {
   "display_name": "Python 3.7.6 64-bit ('base': conda)",
   "language": "python",
   "name": "python37664bitbaseconda1ae424cf00ba4ffaaa6bdb5475dd9e27"
  },
  "language_info": {
   "codemirror_mode": {
    "name": "ipython",
    "version": 3
   },
   "file_extension": ".py",
   "mimetype": "text/x-python",
   "name": "python",
   "nbconvert_exporter": "python",
   "pygments_lexer": "ipython3",
   "version": "3.7.6"
  }
 },
 "nbformat": 4,
 "nbformat_minor": 2
}
